{
 "cells": [
  {
   "cell_type": "markdown",
   "metadata": {},
   "source": [
    "# Deep Learning in Medicine - Spring 2019\n",
    "### BMSC-GA 4493, BMIN-GA 3007 \n",
    "### Homework 2\n",
    "\n"
   ]
  },
  {
   "cell_type": "markdown",
   "metadata": {},
   "source": [
    "**Note:** If you need to write mathematical terms, you can type your answeres in a Markdown Cell via LaTex \n",
    "\n",
    "See: <a href=\"https://stackoverflow.com/questions/13208286/how-to-write-latex-in-ipython-notebook\">here</a> if you have issues. To see basic LaTex notation see: <a href=\"https://en.wikibooks.org/wiki/LaTeX/Mathematics\"> here </a>.\n",
    "\n",
    "**Submission instruction**: Upload and Submit your final jupyter notebook with necessary files in <a href='http://newclasses.nyu.edu'>newclasses.nyu.edu</a>. If you use code or script from web, please give a link to the code in your answers. Not providing the reference of the code used will reduce your points!!\n",
    "\n",
    "**Submission deadline:** Friday March 29th 2019 (5:00 PM) --> No Extensions!!"
   ]
  },
  {
   "cell_type": "markdown",
   "metadata": {},
   "source": [
    "# Question 1: Convolutional Layer  (Total 20 points)\n",
    "\n",
    "We have a 2x6x6 image (2 channels) and three 2x3x3 convolution kernels as pictured. Bias term for each feature map is also provided. For the questions below, please provide the feature/activation maps requested, please provide the python code that you used to calculate the maps\n",
    "\n",
    "<img src=\"Picture1.png\" width=\"900\">"
   ]
  },
  {
   "cell_type": "markdown",
   "metadata": {},
   "source": [
    "## 1.1) \n",
    "What will be the dimension of the feature maps after we forward propogate the image using the given convolution kernels for"
   ]
  },
  {
   "cell_type": "code",
   "execution_count": 47,
   "metadata": {},
   "outputs": [],
   "source": [
    "#Import common dependencies\n",
    "import torch\n",
    "import pandas as pd, numpy as np, matplotlib, matplotlib.pyplot as plt\n",
    "from PIL import Image \n",
    "from torch import nn\n",
    "from torch.utils.data import Dataset, DataLoader\n",
    "import torch.optim as optim\n",
    "import time\n",
    "import torch.nn.functional as F\n",
    "from sklearn.model_selection import train_test_split\n",
    "from skimage import data, io, filters\n",
    "\n",
    "import matplotlib.pyplot as plt\n",
    "import numpy as np\n",
    "from torch.autograd import Variable \n",
    "import time\n",
    "import copy\n",
    "from torch.nn import init\n",
    "\n",
    "import torchvision\n",
    "from torchvision import datasets, models, transforms\n",
    "from torch.optim import lr_scheduler"
   ]
  },
  {
   "cell_type": "code",
   "execution_count": 58,
   "metadata": {},
   "outputs": [
    {
     "name": "stdout",
     "output_type": "stream",
     "text": [
      "tensor([[[[-1.2531, -0.3941, -1.2641, -1.3288, -0.0988, -0.1382],\n",
      "          [ 1.2805,  0.7334,  0.8392,  1.5003, -0.5202,  0.5756],\n",
      "          [ 0.7840,  0.8432,  0.8929, -1.2703,  0.2933,  0.7815],\n",
      "          [ 0.9672, -1.4211, -0.8049,  0.4005, -0.2519,  0.6135],\n",
      "          [ 0.1216, -0.4899,  1.4986,  1.3020, -0.4143,  2.3063],\n",
      "          [-0.3705, -1.0625, -0.8861,  0.2439, -0.2708, -1.5416]],\n",
      "\n",
      "         [[-0.0390, -0.4183, -1.8438,  0.4854,  0.5862, -1.0793],\n",
      "          [-0.4316, -0.1132,  0.9073,  0.2988, -0.3583,  0.2209],\n",
      "          [ 0.5316,  0.4871, -0.4885,  0.9487, -0.0049, -1.9456],\n",
      "          [-0.8705, -0.5354,  0.9950, -0.2146, -1.0156, -0.7656],\n",
      "          [-1.0540,  2.8673, -0.0236, -1.1768,  1.5471, -1.0050],\n",
      "          [ 0.0898,  0.6154,  0.1705,  0.2041, -0.5109,  1.9745]]]])\n"
     ]
    }
   ],
   "source": [
    "# >>> # With square kernels and equal stride\n",
    "# >>> m = nn.Conv2d(16, 33, 3, stride=2)\n",
    "# >>> # non-square kernels and unequal stride and with padding\n",
    "# >>> m = nn.Conv2d(16, 33, (3, 5), stride=(2, 1), padding=(4, 2))\n",
    "# >>> # non-square kernels and unequal stride and with padding and dilation\n",
    "# >>> m = nn.Conv2d(16, 33, (3, 5), stride=(2, 1), padding=(4, 2), dilation=(3, 1))\n",
    "# >>> input = torch.randn(20, 16, 50, 100)\n",
    "# >>> output = m(input)\n",
    "input=torch.randn(1,2,6,6)\n",
    "print(input)"
   ]
  },
  {
   "cell_type": "markdown",
   "metadata": {},
   "source": [
    "### 1.1.a) (1 point)\n",
    "stride=1, without zero padding?"
   ]
  },
  {
   "cell_type": "code",
   "execution_count": 62,
   "metadata": {},
   "outputs": [
    {
     "data": {
      "text/plain": [
       "torch.Size([1, 3, 4, 4])"
      ]
     },
     "execution_count": 62,
     "metadata": {},
     "output_type": "execute_result"
    }
   ],
   "source": [
    "m = nn.Conv2d(in_channels=2,out_channels=3,kernel_size=3)\n",
    "m(input).size()"
   ]
  },
  {
   "cell_type": "markdown",
   "metadata": {},
   "source": [
    "<font color='blue'> 3x4x4 </font>"
   ]
  },
  {
   "cell_type": "markdown",
   "metadata": {},
   "source": [
    "### 1.1.b) (1 point)\n",
    "stride=2, without zero padding?"
   ]
  },
  {
   "cell_type": "code",
   "execution_count": 63,
   "metadata": {},
   "outputs": [
    {
     "data": {
      "text/plain": [
       "torch.Size([1, 3, 2, 2])"
      ]
     },
     "execution_count": 63,
     "metadata": {},
     "output_type": "execute_result"
    }
   ],
   "source": [
    "m = nn.Conv2d(in_channels=2,out_channels=3,kernel_size=3,stride=2)\n",
    "m(input).size()"
   ]
  },
  {
   "cell_type": "markdown",
   "metadata": {},
   "source": [
    "<font color='blue'> 3x2x2 </font>"
   ]
  },
  {
   "cell_type": "markdown",
   "metadata": {},
   "source": [
    "### 1.1.c) (1 point) \n",
    "stride=2, with zero padding?"
   ]
  },
  {
   "cell_type": "code",
   "execution_count": 70,
   "metadata": {},
   "outputs": [
    {
     "data": {
      "text/plain": [
       "torch.Size([1, 3, 3, 3])"
      ]
     },
     "execution_count": 70,
     "metadata": {},
     "output_type": "execute_result"
    }
   ],
   "source": [
    "m = nn.Conv2d(in_channels=2,out_channels=3,kernel_size=3,stride=2,padding=1)\n",
    "m(input).size()"
   ]
  },
  {
   "cell_type": "markdown",
   "metadata": {},
   "source": [
    "<font color='blue'> 3x3x3 </font>"
   ]
  },
  {
   "cell_type": "markdown",
   "metadata": {},
   "source": [
    "### 1.1.d) (1 point)\n",
    "stride=3, with zero padding?"
   ]
  },
  {
   "cell_type": "code",
   "execution_count": 75,
   "metadata": {},
   "outputs": [
    {
     "data": {
      "text/plain": [
       "torch.Size([1, 3, 2, 2])"
      ]
     },
     "execution_count": 75,
     "metadata": {},
     "output_type": "execute_result"
    }
   ],
   "source": [
    "m = nn.Conv2d(in_channels=2,out_channels=3,kernel_size=3,stride=3,padding=1)\n",
    "m(input).size()"
   ]
  },
  {
   "cell_type": "markdown",
   "metadata": {},
   "source": [
    "<font color='blue'> 3x2x2</font>"
   ]
  },
  {
   "cell_type": "markdown",
   "metadata": {},
   "source": [
    "### 1.1.e) (1 point) \n",
    "a dilated convolution with stride=1, dilation rate=2 and zero padding?"
   ]
  },
  {
   "cell_type": "code",
   "execution_count": 92,
   "metadata": {},
   "outputs": [
    {
     "data": {
      "text/plain": [
       "torch.Size([1, 3, 4, 4])"
      ]
     },
     "execution_count": 92,
     "metadata": {},
     "output_type": "execute_result"
    }
   ],
   "source": [
    "m = nn.Conv2d(in_channels=2,out_channels=3,kernel_size=3,stride=1,padding=1,dilation=2)\n",
    "m(input).size()"
   ]
  },
  {
   "cell_type": "markdown",
   "metadata": {},
   "source": [
    "<font color='blue'> 3x4x4</font>"
   ]
  },
  {
   "cell_type": "markdown",
   "metadata": {},
   "source": [
    "## 1.2) (5 points)\n",
    "Use the pytorch package to calculate feature/activation maps. Write a code which takes 2x6x6 image and performs a 2D convolution operation (with stride=2 and no zero padding) using 2x3x3 filters provided on the picture. After convolution layer use leaky ReLU activation function (with negative slope 0.01) and L2-pooling operation (pool width = 2 and stride = 1). Provide the code, feature maps obtained from convolution operation, activation maps, and feature maps after L2-pooling operation."
   ]
  },
  {
   "cell_type": "code",
   "execution_count": 616,
   "metadata": {},
   "outputs": [
    {
     "name": "stdout",
     "output_type": "stream",
     "text": [
      "(2, 6, 6)\n",
      "(3, 2, 3, 3)\n",
      "(3, 1)\n"
     ]
    }
   ],
   "source": [
    "# starter code to load image:x, kernel weights:w and bias:b\n",
    "import numpy as np\n",
    "npzfile = np.load('Question1p2.npz') # 'Question1p2.npz' is provided in github repo\n",
    "#print(npzfile.files) # check the variable names\n",
    "x = npzfile['x']\n",
    "w = npzfile['w']\n",
    "b = npzfile['b']\n",
    "print(x.shape) # input\n",
    "print(w.shape) # weights\n",
    "print(b.shape) # bias"
   ]
  },
  {
   "cell_type": "code",
   "execution_count": 620,
   "metadata": {},
   "outputs": [],
   "source": [
    "# answer starts here\n",
    "\n",
    "# build the model\n",
    "conv = nn.Conv2d(in_channels=2,out_channels=3,kernel_size=3, stride=2) \n",
    "conv.weight = torch.nn.Parameter(torch.tensor(w,dtype=torch.double)) # weight intialization\n",
    "conv.bias = torch.nn.Parameter(torch.tensor(b,dtype=torch.double).squeeze()) # bias intialization\n",
    "\n",
    "relu = nn.LeakyReLU(negative_slope=0.01)\n",
    "\n",
    "maxpool = nn.LPPool2d(2,kernel_size=2, stride = 1)"
   ]
  },
  {
   "cell_type": "code",
   "execution_count": 621,
   "metadata": {},
   "outputs": [
    {
     "name": "stdout",
     "output_type": "stream",
     "text": [
      "tensor([[[[ -4., -13.],\n",
      "          [ -8., -11.]],\n",
      "\n",
      "         [[  7.,   0.],\n",
      "          [  4.,  -5.]],\n",
      "\n",
      "         [[ -1.,   3.],\n",
      "          [  0.,  13.]]]], dtype=torch.float64, grad_fn=<ThnnConv2DBackward>)\n",
      "tensor([[[[-4.0000e-02, -1.3000e-01],\n",
      "          [-8.0000e-02, -1.1000e-01]],\n",
      "\n",
      "         [[ 7.0000e+00,  0.0000e+00],\n",
      "          [ 4.0000e+00, -5.0000e-02]],\n",
      "\n",
      "         [[-1.0000e-02,  3.0000e+00],\n",
      "          [ 0.0000e+00,  1.3000e+01]]]], dtype=torch.float64,\n",
      "       grad_fn=<LeakyReluBackward0>)\n",
      "tensor([[[[ 0.1924]],\n",
      "\n",
      "         [[ 8.0624]],\n",
      "\n",
      "         [[13.3417]]]], dtype=torch.float64, grad_fn=<PowBackward0>)\n"
     ]
    }
   ],
   "source": [
    "# implement the model\n",
    "out1 = conv(torch.tensor([x],dtype=torch.double))\n",
    "out2 = relu(out1)\n",
    "out = maxpool(out2)\n",
    "# print activation map\n",
    "print(out1)\n",
    "print(out2)\n",
    "print(out)"
   ]
  },
  {
   "cell_type": "markdown",
   "metadata": {},
   "source": [
    "## 1.3) (10 points)\n",
    "Use the pytorch package to calculate feature/activation maps of a residual unit as depicted in Figure 2 of https://arxiv.org/pdf/1512.03385.pdf as well as on the figure above.\n",
    "\n",
    "Input --> Convolution --> Activation --> Convolution --> Addition --> Activation\n",
    "\n",
    "Write a code which takes 2x6x6 image and performs two 2D convolution operations (stride = 1, dilation rate = 2 ) using first two 2x3x3 filters provided on the figure. After the first convolution layer and after the addition use ReLU activation function. Provide the code and feature maps obtained from each convolution operation, activation maps, and the last activation map obtained from the residual unit."
   ]
  },
  {
   "cell_type": "code",
   "execution_count": 622,
   "metadata": {},
   "outputs": [],
   "source": [
    "# build the model\n",
    "conv = nn.Conv2d(in_channels=2,out_channels=2,kernel_size=3, stride=1,dilation= 2,padding=2) \n",
    "conv.weight = torch.nn.Parameter(torch.tensor(w[[0,1]],dtype=torch.double)) # weight intialization\n",
    "conv.bias = torch.nn.Parameter(torch.tensor(b[[0,1]],dtype=torch.double).squeeze()) # bias intialization\n",
    "\n",
    "relu = nn.ReLU()\n",
    "\n",
    "maxpool = nn.MaxPool2d(kernel_size=2, stride = 1)"
   ]
  },
  {
   "cell_type": "code",
   "execution_count": 624,
   "metadata": {},
   "outputs": [],
   "source": [
    "out1 = conv(torch.tensor([x],dtype=torch.double))\n",
    "out1_relu = relu(out1)\n",
    "out2 = conv(out1_relu)\n",
    "out2_relu = relu(out2)\n",
    "out = out2_relu + torch.tensor([x],dtype=torch.double)"
   ]
  },
  {
   "cell_type": "code",
   "execution_count": 457,
   "metadata": {},
   "outputs": [
    {
     "name": "stdout",
     "output_type": "stream",
     "text": [
      "tensor([[[[-13., -32.,  25.,  -5.,  24.,  55.],\n",
      "          [-24.,  47.,   0.,   1.,  16., -24.],\n",
      "          [ 25.,  56.,  35.,  83., -11., -62.],\n",
      "          [ 32., -18.,  33.,   2., -15.,  44.],\n",
      "          [ -6., -25.,  -2., -17.,  -1.,  41.],\n",
      "          [-11., -12., -39.,   7.,  40., -22.]],\n",
      "\n",
      "         [[ 10.,  10.,  12.,  42.,  20.,  37.],\n",
      "          [ 12.,  23.,  -3.,  -8.,  -4.,   9.],\n",
      "          [  3.,  60., -12., -31.,  10., -11.],\n",
      "          [ 22., -31., -48.,  41.,  19.,  10.],\n",
      "          [-21., -46., -11.,  -5.,  30.,  25.],\n",
      "          [-60.,  37.,  31., -16.,  12.,  18.]]]], dtype=torch.float64,\n",
      "       grad_fn=<ThnnConvDilated2DBackward>)\n",
      "tensor([[[[  1.,   1.,  13.,  -3.,   1.,   1.],\n",
      "          [-24.,  15.,  -7.,  -4.,   5., -12.],\n",
      "          [  5.,   5.,  -6.,  28.,  -9., -24.],\n",
      "          [ 22., -13.,  17., -19., -25.,  16.],\n",
      "          [ -9., -29.,  -6., -21.,  -9.,  21.],\n",
      "          [-18., -18., -28.,   1.,  27., -10.]],\n",
      "\n",
      "         [[  0.,   0.,  -4.,  -5.,   0.,   0.],\n",
      "          [ -8.,   7., -11.,  -8., -11.,  -1.],\n",
      "          [ -6.,  20.,   1.,  -6.,   6., -11.],\n",
      "          [ 20., -16., -34.,  15.,  -3.,  10.],\n",
      "          [  2.,  -8.,   3.,  16.,  14.,  11.],\n",
      "          [-35.,  19.,  37.,   9.,   9.,   4.]]]], dtype=torch.float64,\n",
      "       grad_fn=<ThnnConvDilated2DBackward>)\n",
      "tensor([[[[ -16.,   40.,   23., -167.,   34.,   33.],\n",
      "          [ -61.,   34., -152.,  193.,   75.,  -69.],\n",
      "          [  49.,   52.,   17.,  274.,    7.,  -17.],\n",
      "          [ 121.,   67.,  436., -143., -128.,   41.],\n",
      "          [  -4.,  -21.,  -52., -132.,  -31.,    6.],\n",
      "          [   8.,  -57., -210.,   19.,   89.,    5.]],\n",
      "\n",
      "         [[  16.,  -57.,   21.,  -28.,  -16.,    3.],\n",
      "          [ -84.,   96.,   28.,  -11.,   23.,  -14.],\n",
      "          [  43.,  123.,   -6.,   53.,   61., -108.],\n",
      "          [ 227.,  -80.,  -91.,   35., -145.,   88.],\n",
      "          [ -35.,   40.,    0.,  -75.,   55.,  173.],\n",
      "          [-151.,  -12.,  -45.,  150.,  192.,  -45.]]]], dtype=torch.float64,\n",
      "       grad_fn=<ThnnConvDilated2DBackward>)\n",
      "tensor([[[[ -12.,   42.,    9., -107.,   13.,  -27.],\n",
      "          [ -31.,   17.,  -92.,   89.,  -16.,  -62.],\n",
      "          [  18.,   -7.,   18.,  130.,  -24.,  -50.],\n",
      "          [  35.,  -23.,  160.,  -85., -100.,   16.],\n",
      "          [ -10.,  -43.,  -40.,  -78.,  -31.,   -1.],\n",
      "          [ -96.,  -70., -133.,    8.,   77.,  -14.]],\n",
      "\n",
      "         [[  -4.,  -61.,   -1.,  -55.,  -27.,  -28.],\n",
      "          [ -56.,   29.,  -59.,  -45.,  -17.,  -31.],\n",
      "          [  38.,   54.,  -29.,  -16.,   34.,  -95.],\n",
      "          [  77.,  -46.,  -54.,   24., -108.,   25.],\n",
      "          [ -11.,   62.,   -3.,  -36.,   37.,   94.],\n",
      "          [ -47.,   35.,   66.,  102.,   89.,   -7.]]]], dtype=torch.float64,\n",
      "       grad_fn=<ThnnConvDilated2DBackward>)\n",
      "tensor([[[[ 1.,  1., 15.,  2.,  1.,  1.],\n",
      "          [ 0., 16.,  0.,  0.,  6.,  0.],\n",
      "          [ 6.,  7.,  1., 29.,  0.,  0.],\n",
      "          [22.,  0., 17.,  1.,  2., 16.],\n",
      "          [ 1.,  1.,  1.,  2.,  2., 23.],\n",
      "          [ 0.,  0.,  2.,  2., 27.,  1.]],\n",
      "\n",
      "         [[ 0.,  2.,  0.,  1.,  2.,  2.],\n",
      "          [ 0.,  8.,  0.,  1.,  1.,  2.],\n",
      "          [ 0., 21.,  3.,  1.,  7.,  1.],\n",
      "          [20.,  2.,  0., 16.,  1., 10.],\n",
      "          [ 3.,  2.,  4., 18., 15., 11.],\n",
      "          [ 0., 19., 39.,  9., 10.,  5.]]]], dtype=torch.float64,\n",
      "       grad_fn=<AddBackward0>)\n"
     ]
    }
   ],
   "source": [
    "print(conv(out1)) # feature map - [1st convolution layer]\n",
    "print(conv(out1_relu)) # feature map - [1st avtivation layer]\n",
    "\n",
    "print(conv(out2)) # feature map - [2st convolution layer]\n",
    "print(conv(out2_relu)) # feature map - [2st avtivation layer]\n",
    "\n",
    "print(out) # feature map - [addition layer]"
   ]
  },
  {
   "cell_type": "code",
   "execution_count": null,
   "metadata": {},
   "outputs": [],
   "source": []
  },
  {
   "cell_type": "markdown",
   "metadata": {},
   "source": [
    "# Question 2: Network design parameters for disease classification (Total 15 points)"
   ]
  },
  {
   "cell_type": "markdown",
   "metadata": {},
   "source": [
    "Disease classification is a common problem in medicine. There are many ways to solve this problem. Goal of this question is to make sure that you have a clear picture in your mind about possible techniques that you can use in such a classification task.\n",
    "\n",
    "Assume that we have a 10K brain images in a dataset of magnetic resonance images (MRIs). For each image, the dimension is 64x64x64 and we have the label for each image. The label of each image defines which class the image belongs (lets assume we have 3 different disease classes in total). You will describe your approach of classifying the disease for the techniques below. Make sure you do not forget the bias term. You can either design your proposed network by explaining it explicitely or you can provide the pytorch code which designs the network for questions 2.1.a, 2.2.a, and 2.3.a\n"
   ]
  },
  {
   "cell_type": "code",
   "execution_count": 661,
   "metadata": {},
   "outputs": [
    {
     "data": {
      "text/plain": [
       "torch.Size([8, 1, 64, 64, 64])"
      ]
     },
     "execution_count": 661,
     "metadata": {},
     "output_type": "execute_result"
    }
   ],
   "source": [
    "# starter code\n",
    "# you can generate a random image tensor for batch_size 8\n",
    "x = torch.Tensor(8,1,64,64,64).normal_().type(torch.FloatTensor)\n",
    "x.shape"
   ]
  },
  {
   "cell_type": "markdown",
   "metadata": {},
   "source": [
    "### 2.1.a) (2 points)\n",
    "Design a multi layer perceptron (MLP) with a single hidden layer which takes an image as input (by reshaping it to a vector: lets call this a vectorized image) and first maps the vectorized images to a vector of 128 then feeds this vector to a fully connected layer to get the probability of 3 tissue classes. "
   ]
  },
  {
   "cell_type": "code",
   "execution_count": 765,
   "metadata": {},
   "outputs": [],
   "source": [
    "class MLP(nn.Module):\n",
    "    def __init__(self):\n",
    "        super(MLP, self).__init__()\n",
    "        \n",
    "        self.fc1 = nn.Linear(64*64*64, 128) # first layer: vecterized input (64^3) --> 128 \n",
    "        self.fc2 = nn.Linear(128, 3)         # output: vector of 3 (probability of three classes)\n",
    "        \n",
    "        \n",
    "    def forward(self, x):\n",
    "        x = x.view(x.size(0), -1) # convert tensor (8, 1, 64,64,64) --> (8, 64^3)\n",
    "        x = self.fc1(x)\n",
    "        x = nn.ReLU(x)\n",
    "        x = self.fc2(x)\n",
    "        \n",
    "        return x\n",
    "\n",
    "model = MLP()    "
   ]
  },
  {
   "cell_type": "markdown",
   "metadata": {},
   "source": [
    "### 2.1.b) (2 points)\n",
    "Clearly mention the sizes for your input and output at each layer until you get final output vector with 3 tissue classes in 64x64x64 voxels"
   ]
  },
  {
   "cell_type": "code",
   "execution_count": 767,
   "metadata": {},
   "outputs": [
    {
     "name": "stdout",
     "output_type": "stream",
     "text": [
      "MLP(\n",
      "  (fc1): Linear(in_features=262144, out_features=128, bias=True)\n",
      "  (fc2): Linear(in_features=128, out_features=3, bias=True)\n",
      ")\n",
      "\n",
      "Answer: input  [64 x 64 x64] --> flatten --> [262144] --> hidden layer --> [128] --> output --> 3\n"
     ]
    }
   ],
   "source": [
    "print(model)\n",
    "print(\"\\nAnswer: input  [64 x 64 x64] --> flatten --> [262144] --> hidden layer --> [128] --> output --> 3\")"
   ]
  },
  {
   "cell_type": "markdown",
   "metadata": {},
   "source": [
    "### 2.1.c) (1 points)\n",
    "How many parameters you need to fit for your design? How does adding another hidden layer effected the number of parameters to use?"
   ]
  },
  {
   "cell_type": "code",
   "execution_count": 769,
   "metadata": {},
   "outputs": [
    {
     "name": "stdout",
     "output_type": "stream",
     "text": [
      "We need this many parameters to fit:  33554947\n"
     ]
    }
   ],
   "source": [
    "def get_n_params(model):\n",
    "    pp=0\n",
    "    for p in list(model.parameters()):\n",
    "        nn=1\n",
    "        for s in list(p.size()):\n",
    "            #print(s)\n",
    "            nn = nn*s\n",
    "        pp += nn\n",
    "    return pp\n",
    "\n",
    "print('We need this many parameters to fit: ', get_n_params(model))"
   ]
  },
  {
   "cell_type": "markdown",
   "metadata": {},
   "source": [
    "### 2.2.a) (2 points)\n",
    "Design a one layer convolutional neural network which first maps the images to a vector of 128 (with the help of convolution and pooling operations) then feeds this vector to a fully connected layer to get the probability of 3 disease classes."
   ]
  },
  {
   "cell_type": "code",
   "execution_count": 840,
   "metadata": {},
   "outputs": [
    {
     "name": "stdout",
     "output_type": "stream",
     "text": [
      "input: [8, 1, 64, 64, 64]\n",
      "conv layer: [8, 128, 29, 29, 29]\n",
      "maxpooling layer: [8, 128, 12, 12, 12]\n",
      "vectorlized: [8, 221184]\n"
     ]
    }
   ],
   "source": [
    "# this is just a pilot test for correct conv/maxpooling layer structure\n",
    "\n",
    "x = torch.Tensor(8,1,64,64,64).normal_().type(torch.FloatTensor)\n",
    "\n",
    "m1 = nn.Conv3d(in_channels=1,out_channels=128,kernel_size=3,stride=2)\n",
    "m2 = nn.MaxPool3d(kernel_size=3,stride=2)\n",
    "\n",
    "\n",
    "print( 'input: ' + str(list(x.size())))\n",
    "x = m1(x)\n",
    "print( 'conv layer: ' + str(list(x.size())))\n",
    "x = m2(x)\n",
    "print( 'maxpooling layer: ' + str(list(x.size())))\n",
    "x = x.view(x.size(0), -1)\n",
    "print( 'vectorlized: ' + str(list(x.size())))"
   ]
  },
  {
   "cell_type": "code",
   "execution_count": 830,
   "metadata": {},
   "outputs": [],
   "source": [
    "# Answer\n",
    "class conv1(nn.Module):\n",
    "    def __init__(self):\n",
    "        super(conv1, self).__init__()\n",
    "        self.conv1 = nn.Conv3d(in_channels=1,out_channels=128,kernel_size=3,stride=2,padding=1)\n",
    "        self.pool1 = nn.MaxPool3d(kernel_size=3,stride=2)\n",
    "        self.fc1 = nn.Linear(432000, 10)\n",
    "\n",
    "    def forward(self, x):\n",
    "        x = self.pool1(F.relu(self.conv1(x)))\n",
    "        x = self.fc1(x)\n",
    "        return x  "
   ]
  },
  {
   "cell_type": "markdown",
   "metadata": {},
   "source": [
    "### 2.2.b) (2 points)\n",
    "Clearly mention the sizes for your input, kernel, pooling, and output at each step until you get final output vector with 3 probabilities"
   ]
  },
  {
   "cell_type": "code",
   "execution_count": 837,
   "metadata": {},
   "outputs": [
    {
     "name": "stdout",
     "output_type": "stream",
     "text": [
      "conv1(\n",
      "  (conv1): Conv3d(1, 128, kernel_size=(3, 3, 3), stride=(2, 2, 2), padding=(1, 1, 1))\n",
      "  (pool1): MaxPool3d(kernel_size=3, stride=2, padding=0, dilation=1, ceil_mode=False)\n",
      "  (fc1): Linear(in_features=432000, out_features=10, bias=True)\n",
      ")\n",
      "\n",
      "Answer: input  [1 x 64 x 64 x 64] --> Conv --> [128 x 31 x 31 x 31] --> MaxPool --> [128 x 15 x 15 x 15] --> vectorize [432000] -->output --> [3]\n"
     ]
    }
   ],
   "source": [
    "model = conv1()\n",
    "print(model)\n",
    "print(\"\\nAnswer: input  [1 x 64 x 64 x 64] --> Conv --> [128 x 31 x 31 x 31] --> MaxPool --> [128 x 15 x 15 x 15] --> vectorize [432000] -->output --> [3]\")"
   ]
  },
  {
   "cell_type": "markdown",
   "metadata": {},
   "source": [
    "### 2.2.c) (1 points) \n",
    "How many parameters you need to fit for your design?"
   ]
  },
  {
   "cell_type": "code",
   "execution_count": 67,
   "metadata": {},
   "outputs": [
    {
     "name": "stdout",
     "output_type": "stream",
     "text": [
      "We need this many parameters to fit:  4323594\n"
     ]
    }
   ],
   "source": [
    "print('We need this many parameters to fit: ', get_n_params(model))"
   ]
  },
  {
   "cell_type": "markdown",
   "metadata": {},
   "source": [
    "### 2.2.d) (2 points)\n",
    "Now increase your selected convolution kernel size by 4 in each direction. Describe the effect of using small vs large filter size during convolution. "
   ]
  },
  {
   "cell_type": "code",
   "execution_count": 68,
   "metadata": {},
   "outputs": [
    {
     "name": "stdout",
     "output_type": "stream",
     "text": [
      "input: [8, 1, 64, 64, 64]\n",
      "conv layer: [8, 128, 29, 29, 29]\n",
      "maxpooling layer: [8, 128, 12, 12, 12]\n",
      "vectorlized: [8, 221184]\n"
     ]
    }
   ],
   "source": [
    "# this is just a pilot test for correct conv/maxpooling layer structure\n",
    "\n",
    "x = torch.Tensor(8,1,64,64,64).normal_().type(torch.FloatTensor)\n",
    "\n",
    "m1 = nn.Conv3d(in_channels=1,out_channels=128,kernel_size=7,stride=2)\n",
    "m2 = nn.MaxPool3d(kernel_size=7,stride=2)\n",
    "\n",
    "\n",
    "print( 'input: ' + str(list(x.size())))\n",
    "x = m1(x)\n",
    "print( 'conv layer: ' + str(list(x.size())))\n",
    "x = m2(x)\n",
    "print( 'maxpooling layer: ' + str(list(x.size())))\n",
    "x = x.view(x.size(0), -1)\n",
    "print( 'vectorlized: ' + str(list(x.size())))"
   ]
  },
  {
   "cell_type": "code",
   "execution_count": 69,
   "metadata": {},
   "outputs": [],
   "source": [
    "# Answer\n",
    "class conv1(nn.Module):\n",
    "    def __init__(self):\n",
    "        super(conv1, self).__init__()\n",
    "        self.conv1 = nn.Conv3d(in_channels=1,out_channels=128,kernel_size=3,stride=2,padding=1)\n",
    "        self.pool1 = nn.MaxPool3d(kernel_size=3,stride=2)\n",
    "        self.fc1 = nn.Linear(221184, 10)\n",
    "\n",
    "    def forward(self, x):\n",
    "        x = self.pool1(F.relu(self.conv1(x)))\n",
    "        x = self.fc1(x)\n",
    "        return x"
   ]
  },
  {
   "cell_type": "markdown",
   "metadata": {},
   "source": [
    "<font color='blue'>\n",
    "After increasing the kernal size\n",
    "\n",
    "1. each unit contains more information, in other words, information are more compressed.\n",
    "\n",
    "2. the sizes of the output from both convolutional layer and maxpooling layer are decreased \n",
    "\n",
    "3. the fully connected layer for last step also has a less number of weight parameters\n",
    "     </font >"
   ]
  },
  {
   "cell_type": "markdown",
   "metadata": {},
   "source": [
    "## 2.3) (3 points)\n",
    "Explain your findings regading different types of neural networks and building blocks based on your observations from 2.1 and 2.2. "
   ]
  },
  {
   "cell_type": "markdown",
   "metadata": {
    "collapsed": true
   },
   "source": [
    "<font color='blue'>\n",
    "\n",
    "In the case of 2.1 and 2.2, I used a *MLP* and a *convolutiaonl* network, respectively.\n",
    "\n",
    "<font color='red'> \n",
    "In terms of **preserving the spatial information**:\n",
    "    \n",
    "* 2.1 flatten and vectorized the input, unable to preserve the spatial information underying; in comparison, \n",
    "* 2.2 uses filters that are designed for its 3D structure, are able to consider the spatial information within the input and also conve\n",
    " </font >\n",
    " \n",
    "<font color='green'> \n",
    "In terms of **number of parameters**, \n",
    "* 2.1 needs 33554947 parametrs as weights connect input to perceptrons\n",
    "* 2.2 needs 4323594 parametrs, which takes less computation to optimize with backpropagation\n",
    "* 2.1 with significant more parameters will be more difficult to train, requring more computational power and less possible to generate a converged model compared to 2.2\n",
    "</font >\n",
    "\n",
    " </font >"
   ]
  },
  {
   "cell_type": "markdown",
   "metadata": {},
   "source": [
    "# Question 3: Literature Review: ChestX-ray8 (Total 15 points + 3 points for Bonus question)\n",
    "Read this paper:\n",
    "\n",
    "Wang X, Peng T, Lu L, et al. \n",
    "ChestX-Ray8: Hospital-Scale Chest X-Ray Database and Benchmarks on Weakly-Supervised Classification and Localization of Common Thorax Diseases. CVPR. 2017. https://ieeexplore.ieee.org/stamp/stamp.jsp?arnumber=8099852\n",
    "\n",
    "\n",
    "We are interested in understanding the task, the methods that is proposed in this publication, technical aspects of the implementation, and possible future work. After you read the full article answer the following questions. Describe you answers in your own words.  \n",
    "\n",
    "## 3.1) (3 points) \n",
    "What type of learning algorithm is used (supervised, semi-supervised or unsupervised) for the classification and localization tasks? What is the reason for selecting this type of learning algorithm? "
   ]
  },
  {
   "cell_type": "markdown",
   "metadata": {},
   "source": [
    "<font color=\"blue\">\n",
    "\n",
    "    \n",
    "**Supervised for multi-label image classification.**\n",
    "\n",
    "**Weakly(semi)-Supervised for localization.**  The pathological sites on the images are presented in varying sizes, shapes etc.. Strigent Supervised algorithm could failed to appreciate such variation. Thus Weakly-Supervised algorithem are exploited to adress the *heterogenity*.\n",
    "</font>\n"
   ]
  },
  {
   "cell_type": "markdown",
   "metadata": {},
   "source": [
    "## 3.2) (5 points)\n",
    "What type of convolutional neural network architectures were used in the paper? How does transfer learning from these architectures achieved?"
   ]
  },
  {
   "cell_type": "markdown",
   "metadata": {},
   "source": [
    "<font color=\"blue\">\n",
    "\n",
    "**Deep Convolutional Neural Network** \n",
    "\n",
    "The authors adopted pretrained models (*AlexNet* , *GoogLeNet*, *VGGNet-16* and *ResNet-50*) by taking the partial architecture, which keeps the convolutional layers but leaves out the fully-connected layers and the final classification layers. \n",
    "\n",
    "Instead they designed a transition layer, followed by a global pooling layer, a prediction layer and a loss layer in the end.\n",
    "      \n",
    "</font>"
   ]
  },
  {
   "cell_type": "markdown",
   "metadata": {},
   "source": [
    "## 3.3) (2 points)\n",
    "What is the loss function? "
   ]
  },
  {
   "cell_type": "markdown",
   "metadata": {},
   "source": [
    "<font color='blue'>\n",
    "\n",
    "They used a **weighted Cross Entropy loss (W-CEL)** that integrated two balancing factors  $ β_P = \\frac{|P|+ |N|}{|P|} , β_N =\\frac{|P|+ |N|}{|N|} $ to cope with the the over-representation of negative samples.\n",
    "\n",
    "Detailed calculation:\n",
    "$$L_{W–CEL} =  β_P \\sum_{y_c=1}^{} -ln(f(x)) + β_N \\sum_{y_c=0}^{} -ln(1-f(x))$$\n",
    "\n",
    "</font>"
   ]
  },
  {
   "cell_type": "markdown",
   "metadata": {},
   "source": [
    "## 3.4) (5 points)\n",
    "\n",
    "What are the evaluation metrics used for model comparison in classification and localization task? Explain why those metrics were chosen?"
   ]
  },
  {
   "cell_type": "markdown",
   "metadata": {},
   "source": [
    "<font color=\"blue\">\n",
    "    \n",
    "Classification: \n",
    "- **AUC** was used to compare the **Accuracy** and **Specificity** of different models.\n",
    "\n",
    "Accuracy of Localization:  \n",
    "- the standard Intersection over Union ratio ($IoU$), or the Intersection over the detected B-Box area ratio (IoBB) care calculated.\n",
    "- A correct localization by requiring either $IoU > T(IoU)$ or $IoBB > T(IoBB)$.\n",
    "\n",
    "    \n",
    " </font>"
   ]
  },
  {
   "cell_type": "markdown",
   "metadata": {},
   "source": [
    "## 3.5) Bonus (3 points)\n",
    "Why did the authors perform text mining?"
   ]
  },
  {
   "cell_type": "markdown",
   "metadata": {},
   "source": [
    "<font color=\"blue\">\n",
    "    \n",
    "The authors want to achive classification of image into 8 disease types. To train a model that is capable of this task, they need to have a *ground truth* of what disease to be compared with. However, these type of *ground truth* is not available in ready format, so authors need to speculate from the report to get clue.\n",
    "    \n",
    "Text mining is the their approach to translate a long report into a single label as health or disease; if disease, which type. \n",
    "    \n",
    "In this way, the authors will have labels that the model can compare their output with and achive model optimization.\n",
    "    \n",
    "</font>\n",
    "    "
   ]
  },
  {
   "cell_type": "markdown",
   "metadata": {
    "collapsed": true
   },
   "source": [
    "# Question 4: Deep CNN design for disease classification (Total 30 points)"
   ]
  },
  {
   "cell_type": "markdown",
   "metadata": {},
   "source": [
    "In this part of the howework, we will focus on classifiying the lung disease using chest x-ray dataset provided by NIH (https://www.nih.gov/news-events/news-releases/nih-clinical-center-provides-one-largest-publicly-available-chest-x-ray-datasets-scientific-community). You should be familiar with the dataset after answering Question 3.\n",
    "\n",
    "You need to use HPC for training part of this question, as your computer's CPU will not be fast enough to compute learning iterations. In case you use HPC, please have your code/scripts uploaded under the questions and provide the required plots and tables there as well. Data is available in HPC under /beegfs/ga4493/data/HW2 folder. We are interested in distinguishing between only pneumothorax and only cardiomegaly cases. By saying so we have 2 classes that we want to identify by modelling a deep CNN.\n",
    "\n",
    "First, you need to work on Data_Entry_2017.csv file to identify cases/images that has only pneumothorax and only cardiomegaly. This file can be downloaded from https://nihcc.app.box.com/v/ChestXray-NIHCC\n",
    "\n",
    "## 4.1) Train, Test, and Validation Sets (2 points)\n",
    "Write a script to read data from Data_Entry_2017.csv and process to obtain 3 sets (train, validation and test). By using 'Finding Labels' column, define a class that each image belongs to, in total you can define 2 classes:\n",
    "- 0 cardiomegaly\n",
    "- 1 pneumothorax\n",
    "\n",
    "Generate a train, validation and test set by splitting the whole dataset containing specific classes (0, and 1)  by 70%, 10% and 20%, respectively. Test set will not be used during modelling but it will be used to test your model's accuracy. Make sure you have similar percentages of different cases in each subset. Provide statistics of the number of classess in your subsets. (you do not need to think about splitting the sets based on subjects for this homework. In general, we do not want images from the same subject to appear in both train and test sets!!) \n",
    "\n",
    "Write a .csv files defining the samples in your train, validation and test set with names: train.csv, validation.csv, and test.csv. Submit these files with your homework. "
   ]
  },
  {
   "cell_type": "code",
   "execution_count": 530,
   "metadata": {},
   "outputs": [
    {
     "data": {
      "text/html": [
       "<div>\n",
       "<style scoped>\n",
       "    .dataframe tbody tr th:only-of-type {\n",
       "        vertical-align: middle;\n",
       "    }\n",
       "\n",
       "    .dataframe tbody tr th {\n",
       "        vertical-align: top;\n",
       "    }\n",
       "\n",
       "    .dataframe thead th {\n",
       "        text-align: right;\n",
       "    }\n",
       "</style>\n",
       "<table border=\"1\" class=\"dataframe\">\n",
       "  <thead>\n",
       "    <tr style=\"text-align: right;\">\n",
       "      <th></th>\n",
       "      <th>Image Index</th>\n",
       "      <th>Finding Labels</th>\n",
       "      <th>Follow-up #</th>\n",
       "      <th>Patient ID</th>\n",
       "      <th>Patient Age</th>\n",
       "      <th>Patient Gender</th>\n",
       "      <th>View Position</th>\n",
       "      <th>OriginalImage[Width</th>\n",
       "      <th>Height]</th>\n",
       "      <th>OriginalImagePixelSpacing[x</th>\n",
       "      <th>y]</th>\n",
       "      <th>Unnamed: 11</th>\n",
       "    </tr>\n",
       "  </thead>\n",
       "  <tbody>\n",
       "    <tr>\n",
       "      <th>0</th>\n",
       "      <td>00000001_000.png</td>\n",
       "      <td>0</td>\n",
       "      <td>0</td>\n",
       "      <td>1</td>\n",
       "      <td>58</td>\n",
       "      <td>M</td>\n",
       "      <td>PA</td>\n",
       "      <td>2682</td>\n",
       "      <td>2749</td>\n",
       "      <td>0.143</td>\n",
       "      <td>0.143</td>\n",
       "      <td>NaN</td>\n",
       "    </tr>\n",
       "    <tr>\n",
       "      <th>1</th>\n",
       "      <td>00000001_001.png</td>\n",
       "      <td>0</td>\n",
       "      <td>1</td>\n",
       "      <td>1</td>\n",
       "      <td>58</td>\n",
       "      <td>M</td>\n",
       "      <td>PA</td>\n",
       "      <td>2894</td>\n",
       "      <td>2729</td>\n",
       "      <td>0.143</td>\n",
       "      <td>0.143</td>\n",
       "      <td>NaN</td>\n",
       "    </tr>\n",
       "    <tr>\n",
       "      <th>2</th>\n",
       "      <td>00000001_002.png</td>\n",
       "      <td>0</td>\n",
       "      <td>2</td>\n",
       "      <td>1</td>\n",
       "      <td>58</td>\n",
       "      <td>M</td>\n",
       "      <td>PA</td>\n",
       "      <td>2500</td>\n",
       "      <td>2048</td>\n",
       "      <td>0.168</td>\n",
       "      <td>0.168</td>\n",
       "      <td>NaN</td>\n",
       "    </tr>\n",
       "    <tr>\n",
       "      <th>23</th>\n",
       "      <td>00000008_000.png</td>\n",
       "      <td>0</td>\n",
       "      <td>0</td>\n",
       "      <td>8</td>\n",
       "      <td>69</td>\n",
       "      <td>F</td>\n",
       "      <td>PA</td>\n",
       "      <td>2048</td>\n",
       "      <td>2500</td>\n",
       "      <td>0.171</td>\n",
       "      <td>0.171</td>\n",
       "      <td>NaN</td>\n",
       "    </tr>\n",
       "    <tr>\n",
       "      <th>39</th>\n",
       "      <td>00000013_001.png</td>\n",
       "      <td>1</td>\n",
       "      <td>1</td>\n",
       "      <td>13</td>\n",
       "      <td>60</td>\n",
       "      <td>M</td>\n",
       "      <td>AP</td>\n",
       "      <td>3056</td>\n",
       "      <td>2544</td>\n",
       "      <td>0.139</td>\n",
       "      <td>0.139</td>\n",
       "      <td>NaN</td>\n",
       "    </tr>\n",
       "  </tbody>\n",
       "</table>\n",
       "</div>"
      ],
      "text/plain": [
       "         Image Index  Finding Labels  Follow-up #  Patient ID  Patient Age  \\\n",
       "0   00000001_000.png               0            0           1           58   \n",
       "1   00000001_001.png               0            1           1           58   \n",
       "2   00000001_002.png               0            2           1           58   \n",
       "23  00000008_000.png               0            0           8           69   \n",
       "39  00000013_001.png               1            1          13           60   \n",
       "\n",
       "   Patient Gender View Position  OriginalImage[Width  Height]  \\\n",
       "0               M            PA                 2682     2749   \n",
       "1               M            PA                 2894     2729   \n",
       "2               M            PA                 2500     2048   \n",
       "23              F            PA                 2048     2500   \n",
       "39              M            AP                 3056     2544   \n",
       "\n",
       "    OriginalImagePixelSpacing[x     y]  Unnamed: 11  \n",
       "0                         0.143  0.143          NaN  \n",
       "1                         0.143  0.143          NaN  \n",
       "2                         0.168  0.168          NaN  \n",
       "23                        0.171  0.171          NaN  \n",
       "39                        0.139  0.139          NaN  "
      ]
     },
     "execution_count": 530,
     "metadata": {},
     "output_type": "execute_result"
    }
   ],
   "source": [
    "#  import the csv file\n",
    "label_df = pd.read_csv('Data_Entry_2017.csv')\n",
    "x=label_df.iloc[:, 1].unique()\n",
    "\n",
    "#  select the rows with keywords\n",
    "temp = label_df.loc[['Pneumothorax' in i or 'Cardiomegaly' in i for i in label_df.iloc[:, 1]]]\n",
    "\n",
    "#  update the class into 0 or 1\n",
    "temp = temp.replace(regex={'.*Pneumothorax.*':1, '.*Cardiomegaly.*':0})\n",
    "temp.head()"
   ]
  },
  {
   "cell_type": "code",
   "execution_count": 70,
   "metadata": {},
   "outputs": [
    {
     "name": "stdout",
     "output_type": "stream",
     "text": [
      "5620\n",
      "803\n",
      "1606\n"
     ]
    }
   ],
   "source": [
    "#  split training, testing, validation data\n",
    "\n",
    "# first split training+test:validation=8:2, stritified on the disease type\n",
    "data_model, data_validation = train_test_split(temp, test_size=0.2, random_state=42,stratify=temp[\"Finding Labels\"])\n",
    "\n",
    "# then split training:testing=7:1, stritified on the disease type \n",
    "data_train, data_test= train_test_split(data_model, test_size=1/8, random_state=42,stratify=data_model[\"Finding Labels\"])\n",
    "\n",
    "print(len(data_train));print(len(data_test));print(len(data_validation))"
   ]
  },
  {
   "cell_type": "code",
   "execution_count": 71,
   "metadata": {},
   "outputs": [],
   "source": [
    "data_train.to_csv(\"train.csv\")\n",
    "data_test.to_csv(\"test.csv\")\n",
    "data_validation.to_csv(\"validation.csv\")"
   ]
  },
  {
   "cell_type": "markdown",
   "metadata": {},
   "source": [
    "## 4.2) Data preparation before training\n",
    "From here on, you will use HW2_trainSet.csv, HW2_testSet.csv and HW2_validationSet.csv provided under github repo for defining train, test and validation set samples instead of the csv files you generate on Question 4.1.\n",
    "\n",
    "\n",
    "There are multiple ways of using images as an input during training or validation. Here, you will use torch Dataset class  (http://pytorch.org/tutorials/beginner/data_loading_tutorial.html). We provided the dataloader code below. Please explain what does following lines of code achieves in the data loader and propose alternatives."
   ]
  },
  {
   "cell_type": "markdown",
   "metadata": {},
   "source": [
    "### 4.2.a) (2 points) \n",
    "\n",
    "image = io.imread(img_name,as_gray=True)"
   ]
  },
  {
   "cell_type": "markdown",
   "metadata": {},
   "source": [
    "<font color=\"blue\">\n",
    "    \n",
    "Load an image from file and with `as_gray=True` converts color images to gray-scale (64-bit floats). \n",
    "             \n",
    "</font>"
   ]
  },
  {
   "cell_type": "markdown",
   "metadata": {},
   "source": [
    "### 4.2.b) (2 points) \n",
    "\n",
    "image = (image - image.mean()) / image.std()"
   ]
  },
  {
   "cell_type": "markdown",
   "metadata": {},
   "source": [
    "<font color=\"blue\">\n",
    "    \n",
    "Normalize the images pixel values by taking its Z score value\n",
    "             \n",
    "</font>"
   ]
  },
  {
   "cell_type": "markdown",
   "metadata": {},
   "source": [
    "## 4.3) CNN model definition (6 points)\n",
    "Since now we can import images for model training, next step is to define a CNN model that you will use to train disease classification task. Any model requires us to select model parameters like how many layers, what is the kernel size, how many feature maps and so on. The number of possible models is infinite, but we need to make some design choices to start.  Lets design a CNN model with 2 convolutional layers, 2 residual units (similar to Figure 2 of https://arxiv.org/pdf/1512.03385.pdf) and a fully connected layer followed by a classification layer. Lets use \n",
    "\n",
    "-  3x3 convolution kernels (stride 1 in resnet units and stride 2 in convolutional layers)\n",
    "-  ReLU for an activation function\n",
    "-  max pooling with kernel 2x2 and stride 2 only after the convolutional layers. \n",
    "\n",
    "Define the number of feature maps in hidden layers as: 16, 16, 16, 32, 32, 32, 64 (1st layer, ..., 7th layer). \n",
    "\n",
    "Input --> Convolution1 --> ResNetBlock1 --> Convolution2 --> ResNetBlock2 --> FC --> Output\n",
    "\n",
    "\n",
    "Write a class which specifies this network details. "
   ]
  },
  {
   "cell_type": "code",
   "execution_count": 137,
   "metadata": {},
   "outputs": [],
   "source": [
    "\n",
    "def conv3x3(in_planes, out_planes, stride=1):\n",
    "    \"\"\"3x3 convolution with padding\"\"\"\n",
    "    return nn.Conv2d(in_planes, out_planes, kernel_size=3, stride=stride,\n",
    "                     padding=1, bias=False)\n",
    "\n",
    "\n",
    "\n",
    "class BasicBlock(nn.Module):\n",
    "    expansion = 1\n",
    "\n",
    "    def __init__(self, inplanes, planes, stride=1, downsample=None, norm_layer=None):\n",
    "        super(BasicBlock, self).__init__()\n",
    "        if norm_layer is None:\n",
    "            norm_layer = nn.BatchNorm2d\n",
    "        # Both self.conv1 and self.downsample layers downsample the input when stride != 1\n",
    "        self.conv1 = conv3x3(inplanes, planes, stride)\n",
    "        self.relu = nn.ReLU(inplace=True)\n",
    "        self.conv2 = conv3x3(planes, planes, stride)\n",
    "        self.stride = stride\n",
    "\n",
    "    def forward(self, x):\n",
    "        identity = x\n",
    "\n",
    "        out = self.conv1(x)\n",
    "        out = self.relu(out)\n",
    "        out = self.conv2(out)\n",
    "        \n",
    "        out += identity\n",
    "        out = self.relu(out)\n",
    "\n",
    "        return out\n",
    "\n",
    "\n",
    "class ResNet_HW2(nn.Module):\n",
    "\n",
    "    def __init__(self, num_classes=2):\n",
    "        super(ResNet_HW2, self).__init__()\n",
    "        self.inplanes = 64\n",
    "        self.conv1 = conv3x3(1,16,stride=2)\n",
    "        self.conv2 = conv3x3(16,32,stride=2)\n",
    "        self.layer1 = BasicBlock(16, 16, stride=1, downsample=None, norm_layer=None)\n",
    "        self.layer2 = BasicBlock(32, 32, stride=1, downsample=None, norm_layer=None)\n",
    "        self.relu = nn.ReLU(inplace=True)\n",
    "        self.maxpool = nn.MaxPool2d(kernel_size=2, stride=2)\n",
    "        self.fc = nn.Linear(131072 , 64)\n",
    "        self.classify = nn.Linear(64, num_classes)\n",
    "\n",
    "\n",
    "    def forward(self, x):\n",
    "\n",
    "        x = self.conv1(x)\n",
    "        x = self.relu(x)\n",
    "        x = self.maxpool(x)\n",
    "\n",
    "        x = self.layer1(x)\n",
    "        \n",
    "        x = self.conv2(x)\n",
    "        x = self.relu(x)\n",
    "        x = self.maxpool(x)\n",
    "        \n",
    "        x = self.layer2(x)\n",
    "        \n",
    "        x = x.view(x.size(0), -1)\n",
    "        #print x.size()\n",
    "        x = self.fc(x)\n",
    "        \n",
    "        x = self.classify(x)\n",
    "        \n",
    "        return x\n",
    "   \n",
    "   \n",
    "   \n",
    "def resnet(pretrained=False, **kwargs):\n",
    "    \"\"\"Constructs a ResNet model.\n",
    "    Args:\n",
    "        pretrained (bool): If True, returns a model pre-trained on ImageNet\n",
    "    \"\"\"\n",
    "    model = ResNet_HW2(**kwargs)\n",
    "    if pretrained:\n",
    "        model.load_state_dict(model_zoo.load_url(model_urls['resnet32']))\n",
    "    return model"
   ]
  },
  {
   "cell_type": "markdown",
   "metadata": {},
   "source": [
    "## 4.4) (2 points)\n",
    "How many learnable parameters of this model has? How many learnable parameters we would have if we replace the fully connected layer with global average pooling layer (Take a look at Section 3.2 of https://arxiv.org/pdf/1312.4400.pdf)?  "
   ]
  },
  {
   "cell_type": "code",
   "execution_count": 849,
   "metadata": {},
   "outputs": [],
   "source": [
    "model = resnet()"
   ]
  },
  {
   "cell_type": "code",
   "execution_count": 855,
   "metadata": {},
   "outputs": [
    {
     "name": "stdout",
     "output_type": "stream",
     "text": [
      "the number of parameters in this model is 8416594\n"
     ]
    }
   ],
   "source": [
    "print(\"the number of parameters in this model is\" , get_n_params(model))"
   ]
  },
  {
   "cell_type": "markdown",
   "metadata": {
    "collapsed": true
   },
   "source": [
    "## 4.5) Loss function and optimizer (2 points)\n",
    "Define a loss criterion and an optimizer using pytorch. What type of loss function is applicable to our binary classification problem? Explain your choice of a loss function.  For an optimizer lets use SGD with momentum for now. Choose an emprical learning rate and momentum.  "
   ]
  },
  {
   "cell_type": "markdown",
   "metadata": {},
   "source": [
    "<font color=\"blue\">\n",
    "The cross entropy loss function and negative log likelihood loss both applicable to binary classification problem\n",
    "I choose to use CrossEntropy loss function\n",
    "    \n",
    " </font>\n",
    " \n",
    " <font color=\"red\">\n",
    "    why??\n",
    "</font>"
   ]
  },
  {
   "cell_type": "code",
   "execution_count": 856,
   "metadata": {},
   "outputs": [],
   "source": [
    "optimizer = torch.optim.SGD(model.parameters(), lr = 0.01, momentum=0.02)\n",
    "criterion = nn.CrossEntropyLoss()"
   ]
  },
  {
   "cell_type": "markdown",
   "metadata": {},
   "source": [
    "_Some background:_ In network architecture design, we want to have an architecture that has enough capacity to learn. We can achive this by using large number of feature maps and/or many more connections and activation nodes. However, having a large number of learnable parameters can easily result in overfitting. To mitigate overfitting, we can keep the number of learnable parameters of the network small either using shallow networks or few feature maps. This approach results in underfitting that model can neither model the training data nor generalize to new data. Ideally, we want to select a model at the sweet spot between underfitting and overfitting. It is hard to find the exact sweet spot. \n",
    "\n",
    "We first need to make sure we have enough capacity to learn, without a capacity we will underfit. Here, you will need to check if designed model in 4.3. can learn or not. Since we do not need to check the generalization capacity (overfitting is OK for now since it shows learning is possible), it is a great strategy to use a subset of training samples. Also, using a subset of samples is helpful for debugging!!!\n",
    "\n",
    "## 4.6) Train the network on a subset (8 points)\n",
    "Lets use a script to take random samples from train set (HW2_trainSet.csv), lets name this set as HW2_randomTrainSet. Choose random samples from validation set (HW2_validationSet.csv), lets name this set as HW2_randomValidationSet. You used downsampling of images from 1024x1024 size to 64x64 in the Lab 4. This was fine for learning purpose but it will significantly reduce the infomation content of the images which is important especially in medicine. In this Howmework you MUST use original images of size 1024x1024 as the network input. "
   ]
  },
  {
   "cell_type": "code",
   "execution_count": 217,
   "metadata": {},
   "outputs": [
    {
     "name": "stdout",
     "output_type": "stream",
     "text": [
      "Selected subset class frequencies\n",
      " 1    158\n",
      "0     72\n",
      "Name: Class, dtype: int64\n",
      "Selected subset class frequencies\n",
      " 1    20\n",
      "0    13\n",
      "Name: Class, dtype: int64\n"
     ]
    }
   ],
   "source": [
    "# get samples from HW2_trainSet.csv\n",
    "import pandas as pd\n",
    "from sklearn.model_selection import train_test_split\n",
    "df = pd.read_csv('HW2_trainSet.csv')\n",
    "_ , X_random, _, _ = train_test_split(df, df.Class, test_size=0.1, random_state=0)\n",
    "print('Selected subset class frequencies\\n',X_random['Class'].value_counts())\n",
    "X_random.to_csv('HW2_randomTrainSet.csv',index=False)\n",
    "\n",
    "df = pd.read_csv('HW2_validationSet.csv')\n",
    "_ , X_random, _, _ = train_test_split(df, df.Class, test_size=0.1, random_state=0)\n",
    "print('Selected subset class frequencies\\n',X_random['Class'].value_counts())\n",
    "X_random.to_csv('HW2_randomValidationSet.csv',index=False)"
   ]
  },
  {
   "cell_type": "markdown",
   "metadata": {},
   "source": [
    "Use the random samples generated and write a script to train your network. Using the script train your network using your choice of weight initialization strategy. In case you need to define other hyperparameters choose them emprically, for example batch size. Plot average loss on your random sample set per epoch. (Stop the training after at most ~100 epochs) "
   ]
  },
  {
   "cell_type": "markdown",
   "metadata": {},
   "source": [
    "<font color=\"red\">\n",
    "The model has been trained on Prince. \n",
    "\n",
    "Loss and accuracy for traning and validation is saved in csv files *4.6_acc2plot.csv*, *4.6_loss2plot.csv* and plotted below\n",
    "\n",
    "</font>"
   ]
  },
  {
   "cell_type": "code",
   "execution_count": null,
   "metadata": {},
   "outputs": [],
   "source": [
    "dataset_sizes = {'train': len(chestXray_TrainData), 'val': len(chestXray_ValidationData)}\n",
    "\n",
    "def init_weights(module):\n",
    "\n",
    "    #Optional: Initialize weights using Xavier Initialization \n",
    "    \n",
    "    for name, param in module.named_parameters():\n",
    "        if name.find('weight') != -1:\n",
    "            if len(param.size()) == 1:\n",
    "                init.uniform(param.data, 1)\n",
    "            else:\n",
    "                init.xavier_uniform(param.data)\n",
    "        elif name.find('bias') != -1:\n",
    "            init.constant(param.data, 0)\n",
    "\n",
    "# use GPU if availaible       \n",
    "use_gpu= torch.cuda.is_available() \n",
    "\n",
    "# model selection\n",
    "model = ResNet_HW2()\n",
    "init_weights(model)    \n",
    "if use_gpu:\n",
    "    model.cuda()\n",
    "      \n",
    "# loss function and optimizer\n",
    "optimizer = torch.optim.SGD(model.parameters(), lr = 0.01, momentum=0.2)\n",
    "criterion = nn.CrossEntropyLoss() \n",
    "       \n",
    "      \n",
    "\n",
    "\n",
    "\n",
    "# ----------------------------------------------\n",
    "# 3. train model\n",
    "# ----------------------------------------------\n",
    "def train_model(model, criterion, optimizer, num_epochs=25, trainVal=['train','val'],verbose=True):\n",
    "    since = time.time()\n",
    "    \n",
    "    best_model_wts = copy.deepcopy(model.state_dict())\n",
    "    best_acc = 0.0\n",
    "\n",
    "    loss2plot = np.zeros([2,num_epochs])\n",
    "    acc2plot  = np.zeros([2,num_epochs])\n",
    "\n",
    "    for epoch in range(num_epochs):\n",
    "        if verbose:\n",
    "            print('Epoch {}/{}'.format(epoch, num_epochs - 1))\n",
    "            print('-' * 10)\n",
    "\n",
    "        # Each epoch has a training and validation phase\n",
    "        for phase in trainVal:\n",
    "            if phase == 'train':\n",
    "                imageLoader = train_loader\n",
    "            else:\n",
    "                imageLoader = validation_loader\n",
    "\n",
    "            running_loss = 0.0\n",
    "            running_corrects = 0\n",
    "\n",
    "            # Iterate over data.\n",
    "            for sample_batched in imageLoader:\n",
    "                # get the inputs\n",
    "                inputs = sample_batched['x']\n",
    "                labels = sample_batched['y']\n",
    "\n",
    "                # wrap them in Variable\n",
    "                if use_gpu:\n",
    "                    inputs = Variable(inputs).type(torch.FloatTensor).cuda()\n",
    "                    labels = Variable(labels).type(torch.LongTensor).cuda()\n",
    "                else:\n",
    "                    inputs, labels = Variable(inputs).type(torch.FloatTensor), Variable(labels).type(torch.LongTensor)\n",
    "            \n",
    "\n",
    "                # zero the parameter gradients\n",
    "                optimizer.zero_grad()\n",
    "\n",
    "                # forward\n",
    "                outputs = model(inputs)\n",
    "                _, preds = torch.max(outputs.data, 1)\n",
    "                loss = criterion(outputs, labels)\n",
    "                \n",
    "\n",
    " \n",
    "                # backward + optimize only if in training phase\n",
    "                if phase == 'train':\n",
    "                    loss.backward()\n",
    "                    optimizer.step()\n",
    " \n",
    "                #  statistics\n",
    "                running_loss += loss.data.item() * inputs.size(0)\n",
    "                running_corrects += float(torch.sum(preds == labels.data))\n",
    "\n",
    "\n",
    " \n",
    "            epoch_loss = running_loss / dataset_sizes[phase]\n",
    "            epoch_acc = running_corrects / dataset_sizes[phase]\n",
    "\n",
    "            \n",
    "\n",
    "\n",
    "            if phase == 'train':\n",
    "                loss2plot[0,epoch] = epoch_loss\n",
    "                acc2plot[0,epoch] = epoch_acc\n",
    "            else:\n",
    "                loss2plot[1,epoch] = epoch_loss\n",
    "                acc2plot[1,epoch] = epoch_acc\n",
    "\n",
    "\n",
    "            # deep copy the model\n",
    "            if phase == 'val' and epoch_acc > best_acc:\n",
    "                best_acc = epoch_acc\n",
    "                best_model_wts = copy.deepcopy(model.state_dict())\n",
    "\n",
    "            if verbose:\n",
    "                print('{} Loss: {:.4f} Acc: {:.4f}'.format(\n",
    "                    phase, epoch_loss, epoch_acc))\n",
    "\n",
    "\n",
    "    time_elapsed = time.time() - since\n",
    "    print('Training complete in {:.0f}m {:.0f}s'.format(\n",
    "        time_elapsed // 60, time_elapsed % 60))\n",
    "    print('Best val Acc: {:4f}'.format(best_acc))\n",
    "    \n",
    "\n",
    "    # load best model weights\n",
    "    model.load_state_dict(best_model_wts)\n",
    "    \n",
    "    np.savetxt(\"4.6_loss2plot_lr0.01.csv\",loss2plot,delimiter=\",\")\n",
    "    np.savetxt(\"4.6_acc2plot_lr0.01.csv\",acc2plot,delimiter=\",\")\n",
    "    \n",
    "    return model\n",
    "\n",
    "\n",
    "\n",
    "model_ft = train_model(model, criterion, optimizer,num_epochs=25, trainVal=['train','val'])\n",
    "\n",
    "\n",
    "# ----------------------------------------------\n",
    "\n",
    "\n",
    "# for sample_batched in train_loader:\n",
    "# \tinputs = sample_batched['x']\n",
    "# \tlabels = sample_batched['y']\n",
    "# \t\n",
    "# \n",
    "# if use_gpu:\n",
    "# \tinputs = Variable(inputs).type(torch.FloatTensor).cuda()\n",
    "# \tlabels = Variable(labels).type(torch.LongTensor).cuda()\n",
    "# else:\n",
    "# \tinputs, labels = Variable(inputs).type(torch.FloatTensor), Variable(labels).type(torch.LongTensor)\n",
    "# \n",
    "# outputs = model(inputs)\n",
    "# loss = criterion(outputs, labels)\n",
    "# _, preds = torch.max(outputs.data, 1)\n",
    "# \n",
    "# running_loss = 0.0\n",
    "# running_corrects = 0\n",
    "# running_corrects += float(torch.sum(preds == labels.data))\n",
    "# print(running_corrects / 16)\n",
    "\n"
   ]
  },
  {
   "cell_type": "code",
   "execution_count": 72,
   "metadata": {},
   "outputs": [],
   "source": [
    "def plot_loss_acc(loss_file,acc_file, trainVal = ['train','val']):\n",
    "    \n",
    "    loss2plot = pd.read_csv(loss_file, sep=',',header=None).values\n",
    "    acc2plot = pd.read_csv(acc_file, sep=',',header=None).values\n",
    "    \n",
    "    for phase in trainVal:\n",
    "        if phase == 'train':\n",
    "            idx=0\n",
    "        else:\n",
    "            idx=1\n",
    "            \n",
    "        fig = plt.figure()\n",
    "        \n",
    "    \n",
    "        a = fig.add_subplot(2,2,2*idx+1)\n",
    "        plt.plot(loss2plot[idx,:])\n",
    "        plt.title('Loss per epoch for ' + phase)\n",
    "        #plt.suptitle('Curves for ' + phase)\n",
    "\n",
    "        a = fig.add_subplot(2,2,2*idx+2)\n",
    "        plt.plot(acc2plot[idx,:])\n",
    "        plt.title('Accuracy per epoch for ' + phase)\n",
    "        plt.show()\n",
    "\n",
    "#         plt.plot(loss2plot[idx,:]);plt.title('Loss per epoch for ' + phase); plt.show()\n",
    "#         plt.plot(acc2plot[idx,:]);plt.title('Accuracy per epoch for ' + phase); plt.show()"
   ]
  },
  {
   "cell_type": "code",
   "execution_count": 887,
   "metadata": {},
   "outputs": [
    {
     "data": {
      "image/png": "[encoded data removed]",
      "text/plain": [
       "<Figure size 432x288 with 2 Axes>"
      ]
     },
     "metadata": {
      "needs_background": "light"
     },
     "output_type": "display_data"
    },
    {
     "data": {
      "image/png": "[encoded data removed]",
      "text/plain": [
       "<Figure size 432x288 with 2 Axes>"
      ]
     },
     "metadata": {
      "needs_background": "light"
     },
     "output_type": "display_data"
    }
   ],
   "source": [
    "plot_loss_acc(loss_file=\"MLresults/4.6_loss2plot_lr0.01.csv\",acc_file=\"MLresults/4.6_acc2plot_lr0.01.csv\")"
   ]
  },
  {
   "cell_type": "markdown",
   "metadata": {},
   "source": [
    "## 4.7) Analysis of training using a CNN model(2 points)\n",
    "Describe your findings. Can your network learn from 230 random samples? Does CNN model have enough capacity to learn with your choice of emprical hyperparameters?\n",
    "-  If yes, how will average loss plot will change if you multiply the learning rate by 10?\n",
    "-  If no, how can you increase the model capacity? Increase your model capacity and train again until you find a model with enough capacity. If the capacity increase is not sufficient to learn, think about emprical parameters you choose in designing your network and make some changes on your selection. Describe what type of changes you made to your original network and how can you manage this model to learn."
   ]
  },
  {
   "cell_type": "markdown",
   "metadata": {
    "collapsed": true
   },
   "source": [
    "<font color=\"blue\">\n",
    "\n",
    "Yes, my model was able to learn by decreased loss and increased accuracy overall.\n",
    "\n",
    "However, it seems my model is overfitting by very unstable accuracy at Epoch 15-25.\n",
    "\n",
    "Then I increased my learning rate by 10 from  `lr=0.01` to `lr =0.1`, the results are shown below.\n",
    "\n",
    "At epoch #3-4, my models stopped updating with fixed loss and accuracy. I think it is because that my model is stuck in a local minima or a highly fluctrating region where the parmeters need to micro-updated to overcome the local minima. \n",
    "\n",
    "</font>"
   ]
  },
  {
   "cell_type": "code",
   "execution_count": 77,
   "metadata": {},
   "outputs": [
    {
     "data": {
      "image/png": "[encoded data removed]",
      "text/plain": [
       "<Figure size 432x288 with 2 Axes>"
      ]
     },
     "metadata": {
      "needs_background": "light"
     },
     "output_type": "display_data"
    },
    {
     "data": {
      "image/png": "[encoded data removed]",
      "text/plain": [
       "<Figure size 432x288 with 2 Axes>"
      ]
     },
     "metadata": {
      "needs_background": "light"
     },
     "output_type": "display_data"
    }
   ],
   "source": [
    "plot_loss_acc(acc_file='MLresults/old/4.6_acc2plot_lr0.1.csv',loss_file='MLresults/old/4.6_loss2plot_lr0.1.csv')"
   ]
  },
  {
   "cell_type": "markdown",
   "metadata": {},
   "source": [
    "## 4.8) Train the network on the whole dataset (4 points)\n",
    "After question 4.7., you should have a network which has enough capacity to learn and you were able to debug your training code so that it is now ready to be trained on the whole dataset. Train your network on the whole train set (HW2_trainSet.csv) and check the validation loss on the whole validation set (HW2_validationSet.csv) in each epoch. Plot average loss and accuracy on train and validation sets. Describe your findings. Do you see overfitting or underfitting to train set? What else you can do to mitigate it?"
   ]
  },
  {
   "cell_type": "code",
   "execution_count": null,
   "metadata": {},
   "outputs": [],
   "source": [
    "# ----------------------------------------------\n",
    "# 3. Select model and initialize\n",
    "# ----------------------------------------------\n",
    "dataset_sizes = {'train': len(chestXray_TrainData), 'val': len(chestXray_ValidationData)}\n",
    "\n",
    "def init_weights(module):\n",
    "\n",
    "    #Optional: Initialize weights using Xavier Initialization \n",
    "    \n",
    "    for name, param in module.named_parameters():\n",
    "        if name.find('weight') != -1:\n",
    "            if len(param.size()) == 1:\n",
    "                init.uniform(param.data, 1)\n",
    "            else:\n",
    "                init.xavier_uniform(param.data)\n",
    "        elif name.find('bias') != -1:\n",
    "            init.constant(param.data, 0)\n",
    "\n",
    "# use GPU if availaible       \n",
    "use_gpu= torch.cuda.is_available() \n",
    "\n",
    "# model selection\n",
    "model = ResNet_HW2()\n",
    "init_weights(model)    \n",
    "if use_gpu:\n",
    "    model.cuda()\n",
    "      \n",
    "# loss function and optimizer\n",
    "optimizer = torch.optim.SGD(model.parameters(), lr = 0.01, momentum=0.2)\n",
    "criterion = nn.CrossEntropyLoss() \n",
    "       \n",
    "      \n",
    "\n",
    "\n",
    "\n",
    "# ----------------------------------------------\n",
    "# 3. train model\n",
    "# ----------------------------------------------\n",
    "def train_model(model, criterion, optimizer, num_epochs=25, trainVal=['train','val'],verbose=True):\n",
    "    since = time.time()\n",
    "    \n",
    "    best_model_wts = copy.deepcopy(model.state_dict())\n",
    "    best_acc = 0.0\n",
    "\n",
    "    loss2plot = np.zeros([2,num_epochs])\n",
    "    acc2plot  = np.zeros([2,num_epochs])\n",
    "\n",
    "    for epoch in range(num_epochs):\n",
    "        if verbose:\n",
    "            print('Epoch {}/{}'.format(epoch, num_epochs - 1))\n",
    "            print('-' * 10)\n",
    "\n",
    "        # Each epoch has a training and validation phase\n",
    "        for phase in trainVal:\n",
    "            if phase == 'train':\n",
    "                imageLoader = train_loader\n",
    "            else:\n",
    "                imageLoader = validation_loader\n",
    "\n",
    "            running_loss = 0.0\n",
    "            running_corrects = 0\n",
    "\n",
    "            # Iterate over data.\n",
    "            for sample_batched in imageLoader:\n",
    "                # get the inputs\n",
    "                inputs = sample_batched['x']\n",
    "                labels = sample_batched['y']\n",
    "\n",
    "                # wrap them in Variable\n",
    "                if use_gpu:\n",
    "                    inputs = Variable(inputs).type(torch.FloatTensor).cuda()\n",
    "                    labels = Variable(labels).type(torch.LongTensor).cuda()\n",
    "                else:\n",
    "                    inputs, labels = Variable(inputs).type(torch.FloatTensor), Variable(labels).type(torch.LongTensor)\n",
    "            \n",
    "\n",
    "                # zero the parameter gradients\n",
    "                optimizer.zero_grad()\n",
    "\n",
    "                # forward\n",
    "                outputs = model(inputs)\n",
    "                _, preds = torch.max(outputs.data, 1)\n",
    "                loss = criterion(outputs, labels)\n",
    "                \n",
    "\n",
    " \n",
    "                # backward + optimize only if in training phase\n",
    "                if phase == 'train':\n",
    "                    loss.backward()\n",
    "                    optimizer.step()\n",
    " \n",
    "                #  statistics\n",
    "                running_loss += loss.data.item() * inputs.size(0)\n",
    "                running_corrects += float(torch.sum(preds == labels.data))\n",
    "\n",
    "\n",
    " \n",
    "            epoch_loss = running_loss / dataset_sizes[phase]\n",
    "            epoch_acc = running_corrects / dataset_sizes[phase]\n",
    "\n",
    "            \n",
    "\n",
    "\n",
    "            if phase == 'train':\n",
    "                loss2plot[0,epoch] = epoch_loss\n",
    "                acc2plot[0,epoch] = epoch_acc\n",
    "            else:\n",
    "                loss2plot[1,epoch] = epoch_loss\n",
    "                acc2plot[1,epoch] = epoch_acc\n",
    "\n",
    "\n",
    "            # deep copy the model\n",
    "            if phase == 'val' and epoch_acc > best_acc:\n",
    "                best_acc = epoch_acc\n",
    "                best_model_wts = copy.deepcopy(model.state_dict())\n",
    "\n",
    "            if verbose:\n",
    "                print('{} Loss: {:.4f} Acc: {:.4f}'.format(\n",
    "                    phase, epoch_loss, epoch_acc))\n",
    "\n",
    "\n",
    "    time_elapsed = time.time() - since\n",
    "    print('Training complete in {:.0f}m {:.0f}s'.format(\n",
    "        time_elapsed // 60, time_elapsed % 60))\n",
    "    print('Best val Acc: {:4f}'.format(best_acc))\n",
    "    \n",
    "\n",
    "    # load best model weights\n",
    "    model.load_state_dict(best_model_wts)\n",
    "    \n",
    "    np.savetxt(\"4.8_loss2plot.csv\",loss2plot,delimiter=\",\")\n",
    "    np.savetxt(\"4.8_acc2plot.csv\",acc2plot,delimiter=\",\")\n",
    "    \n",
    "    return model\n",
    "\n",
    "\n",
    "\n",
    "# model_ft = train_model(model, criterion, optimizer,num_epochs=25, trainVal=['train','val'])\n",
    "\n",
    "\n",
    "# torch.save(model_ft.state_dict(), \"model_4.8.pt\")\n"
   ]
  },
  {
   "cell_type": "code",
   "execution_count": 78,
   "metadata": {},
   "outputs": [
    {
     "data": {
      "image/png": "[encoded data removed]",
      "text/plain": [
       "<Figure size 432x288 with 2 Axes>"
      ]
     },
     "metadata": {
      "needs_background": "light"
     },
     "output_type": "display_data"
    },
    {
     "data": {
      "image/png": "[encoded data removed]",
      "text/plain": [
       "<Figure size 432x288 with 2 Axes>"
      ]
     },
     "metadata": {
      "needs_background": "light"
     },
     "output_type": "display_data"
    }
   ],
   "source": [
    "plot_loss_acc(loss_file=\"MLresults/old/4.8_loss2plot.csv\",acc_file=\"MLresults/old/4.8_acc2plot.csv\")"
   ]
  },
  {
   "cell_type": "markdown",
   "metadata": {},
   "source": [
    "<font color=\"blue\">\n",
    "\n",
    "Above are the tracked accuracy and loss when use whole data to train and validate. \n",
    "\n",
    "1. I do not have a mild overfitting problem, illustrated by smaller accuracy for validation data than training data.\n",
    "\n",
    "\n",
    "2. I think I have gradient explosion problem. As we can appreciate on the 1st plot where the loss dramatically increases from epoch #20. Consistenly, we see a dramtic decrease in Accuracy starting from epoch #20. Even though it did not change the performance of model for validation dataset, it still suggest starting from epoch #20, the gradiant explosion occurs.\n",
    "\n",
    "    <font color=\"red\"> -->in the future, I would consider a **Gradient Clip Strategy** to control this type of problem.<font>\n",
    "\n",
    "\n",
    "    \n",
    "<font>   "
   ]
  },
  {
   "cell_type": "markdown",
   "metadata": {},
   "source": [
    "# 5. Transfer learning as a feature extractor (Total 12 points)\n",
    "In this part of the HW we are interested in using transfer learning for the disease classification task. we will use ResNet34 model to achieve this goal. Here is the link for the ResNet paper: https://arxiv.org/pdf/1512.03385.pdf  There are multiple ways of achieving transfer learning from a pretrained network as we cover in Lecture 6. You will use ResNet34 model pretrained on ImageNet as a fixed feature extractor in this question."
   ]
  },
  {
   "cell_type": "markdown",
   "metadata": {},
   "source": [
    "## 5.1)\n",
    "We need to make necessary changes in dataloader which is defined in Q.4.2. to make the dataset class is capable of feeding the X-ray dataset into resnet model for transfer learning. Remember X-ray data has grayscale images of 1024x1024 pixels and resnet34 model was trained on RGB images of size 256x256 from ImageNet. We provide you the new dataset class tailored for transfer learning. Answer the following questions"
   ]
  },
  {
   "cell_type": "markdown",
   "metadata": {},
   "source": [
    "## 5.1.a) (1 point)\n",
    "Please explain what does following lines of code would achievein the data loader?\n",
    "\n",
    "...\n",
    "\n",
    "transforms.Resize([256,256]),\n",
    "\n",
    "transforms.RandomResizedCrop(224),\n",
    "\n",
    "..."
   ]
  },
  {
   "cell_type": "markdown",
   "metadata": {},
   "source": [
    "<font color=\"blue\">\n",
    "   \n",
    "1.  `transforms.Resize([256,256])` resize the images by reducing the dimentions from 1024x1024 to 256x256\n",
    " \n",
    "2. `transforms.RandomResizedCrop(224)` A crop of random image of size 224x224 at random aspect ratio (3/4-4/3) is made.\n",
    " \n",
    "</font>"
   ]
  },
  {
   "cell_type": "markdown",
   "metadata": {},
   "source": [
    "## 5.1.b) (2 points)\n",
    "Why do we need different transforms for train set and validation/test sets?"
   ]
  },
  {
   "cell_type": "markdown",
   "metadata": {},
   "source": [
    "<font color=\"blue\">\n",
    "\n",
    "For the training purpose, we want the model to learn as much as possible, or as generalized as possible. Thus it requires the model to learn under all kinds of circumastances and be inviarant to small changes. Thus at the trainig phase we introduce some randomness to the traning data by incorpratiin addtional random crop and flip. \n",
    "\n",
    "<font>\n",
    "    "
   ]
  },
  {
   "cell_type": "markdown",
   "metadata": {},
   "source": [
    "## 5.1.c) (1 point)\n",
    "Please explain what does following line of code achieves in the data loader and propose alternatives.\n",
    "\n",
    "image=np.repeat(image[None,...],3,axis=0)"
   ]
  },
  {
   "cell_type": "markdown",
   "metadata": {},
   "source": [
    "<font color=\"blue\">\n",
    "\n",
    "This code duplicate the matrix of `image` by 3, and stack them together. The idea is Resnet34 takes RGB images, which consist of 3 channels. We need to duplicate our previous 1 chanel image into 3 channels by duplicating it three times.\n",
    "\n",
    "Alternatively we can use `transforms.Grayscale(num_output_channels=3)` in the `transform` function."
   ]
  },
  {
   "cell_type": "markdown",
   "metadata": {},
   "source": [
    "## 5.2) (2 points)\n",
    "Define train, validation and test dataloaders loaders using the dataset class defined in Q.5.1.a and .csv files: HW2_TrainSet, HW2_ValidationSet"
   ]
  },
  {
   "cell_type": "code",
   "execution_count": 79,
   "metadata": {},
   "outputs": [],
   "source": [
    "from torch.utils.data import Dataset, DataLoader\n",
    "import pandas as pd\n",
    "import os\n",
    "from skimage import io\n",
    "import torch\n",
    "from torchvision import transforms\n",
    "import torchvision\n",
    "from skimage import color\n",
    "\n",
    "# torchvision models are trained on input images normalized to [0 1] range .ToPILImage() function achives this\n",
    "# additional normalization is required see: http://pytorch.org/docs/master/torchvision/models.html\n",
    "\n",
    "train_transform = transforms.Compose([\n",
    "        transforms.ToPILImage(),\n",
    "        transforms.Resize([256,256]),\n",
    "        transforms.RandomResizedCrop(224),\n",
    "        transforms.RandomHorizontalFlip(),\n",
    "        transforms.ToTensor(),\n",
    "        transforms.Normalize([0.485, 0.456, 0.406], [0.229, 0.224, 0.225])])\n",
    "\n",
    "validation_transform = transforms.Compose([\n",
    "        transforms.ToPILImage(),\n",
    "        transforms.Resize([256,256]),\n",
    "        transforms.CenterCrop(224),\n",
    "        transforms.ToTensor(),\n",
    "        transforms.Normalize([0.485, 0.456, 0.406], [0.229, 0.224, 0.225])])\n",
    "\n",
    "class ChestXrayDataset_TL(Dataset):\n",
    "    \"\"\"Chest X-ray dataset from https://nihcc.app.box.com/v/ChestXray-NIHCC.\"\"\"\n",
    "\n",
    "    def __init__(self, csv_file, root_dir, transform=None):\n",
    "        \"\"\"\n",
    "        Args:\n",
    "            csv_file (string): Path to the csv file filename information.\n",
    "            root_dir (string): Directory with all the images.\n",
    "            transform (callable, optional): Optional transform to be applied\n",
    "                on a sample.\n",
    "        \"\"\"\n",
    "        self.data_frame = pd.read_csv(csv_file)\n",
    "        self.root_dir = root_dir\n",
    "        self.transform = transform\n",
    "\n",
    "    def __len__(self):\n",
    "        return len(self.data_frame)\n",
    "\n",
    "    def __getitem__(self, idx):\n",
    "        img_name = os.path.join(self.root_dir,\n",
    "                                self.data_frame.iloc[idx, 0])\n",
    "        \n",
    "        image = io.imread(img_name)\n",
    "        print(image.shape)\n",
    "        if len(image.shape) > 2 and image.shape[2] == 4:\n",
    "            image = image[:,:,0]\n",
    "            \n",
    "        image=np.repeat(image[None,...],3,axis=0)\n",
    "            \n",
    "        image_class = self.data_frame.iloc[idx, -1]\n",
    "\n",
    "        if self.transform:\n",
    "            image = self.transform(image)\n",
    "            \n",
    "        sample = {'x': image, 'y': image_class}\n",
    "\n",
    "        return sample  \n",
    "    \n"
   ]
  },
  {
   "cell_type": "code",
   "execution_count": null,
   "metadata": {},
   "outputs": [],
   "source": [
    "chestXray_TL_TrainData = ChestXrayDataset_TL(csv_file=\"HW2_trainSet.csv\", root_dir=\"/beegfs/ga4493/data/HW2/images\", transform=train_transform)\n",
    "chestXray_TL_ValidationData = ChestXrayDataset_TL(df_path=\"HW2_validationSet.csv\",image_path=\"/beegfs/ga4493/data/HW2/images\",transform=validation_transform)\n",
    "\n",
    "\n",
    "batch_size = 16\n",
    "train_loader = DataLoader(chestXray_TrainData, batch_size=BATCH_SIZE,\n",
    "                               shuffle=True, num_workers=4)\n",
    "validation_loader = DataLoader(chestXray_ValidationData, batch_size=BATCH_SIZE,\n",
    "                               shuffle=True, num_workers=4)"
   ]
  },
  {
   "cell_type": "markdown",
   "metadata": {},
   "source": [
    "## 5.3) (2 points)\n",
    "Write the code for designing resnet34 architecture and loading the weights from ImageNet trained network. "
   ]
  },
  {
   "cell_type": "code",
   "execution_count": 80,
   "metadata": {},
   "outputs": [],
   "source": [
    "if torch.cuda.is_available():\n",
    "    device = torch.device('cuda')\n",
    "else:\n",
    "    device = torch.device('cpu')"
   ]
  },
  {
   "cell_type": "code",
   "execution_count": 82,
   "metadata": {},
   "outputs": [],
   "source": [
    "# ----------------------------------------------\n",
    "# 2. model : pretrained resNET34\n",
    "# ----------------------------------------------\n",
    "model_ft = models.resnet34(pretrained=False)\n",
    "num_ftrs = model_ft.fc.in_features\n",
    "model_ft.fc = nn.Linear(num_ftrs, 2)\n",
    "\n",
    "\n",
    "# use GPU if availaible       \n",
    "use_gpu= torch.cuda.is_available() \n",
    "if use_gpu:\n",
    "    model_ft.cuda()\n",
    "\n",
    "criterion = nn.CrossEntropyLoss()\n",
    "\n",
    "# Observe that all parameters are being optimized\n",
    "optimizer_ft = optim.Adam(model_ft.parameters(), lr=0.0005)\n",
    "\n",
    "# Decay LR by a factor of 0.1 every 7 epochs\n",
    "exp_lr_scheduler = lr_scheduler.StepLR(optimizer_ft, step_size=5, gamma=0.1)\n",
    "\n",
    "\n",
    "# ----------------------------------------------\n",
    "# 3. train model\n",
    "# ----------------------------------------------\n",
    "dataset_sizes = {'train': len(chestXray_TL_TrainData), 'val': len(chestXray_TL_ValidationData)}\n",
    "\n",
    "def train_model(model, criterion, optimizer, num_epochs=25, trainVal=['train','val'],verbose=True):\n",
    "    since = time.time()\n",
    "    \n",
    "    best_model_wts = copy.deepcopy(model.state_dict())\n",
    "    best_acc = 0.0\n",
    "\n",
    "    loss2plot = np.zeros([2,num_epochs])\n",
    "    acc2plot  = np.zeros([2,num_epochs])\n",
    "\n",
    "    for epoch in range(num_epochs):\n",
    "        if verbose:\n",
    "            print('Epoch {}/{}'.format(epoch, num_epochs - 1))\n",
    "            print('-' * 10)\n",
    "\n",
    "        # Each epoch has a training and validation phase\n",
    "        for phase in trainVal:\n",
    "            if phase == 'train':\n",
    "                imageLoader = train_loader\n",
    "            else:\n",
    "                imageLoader = validation_loader\n",
    "\n",
    "            running_loss = 0.0\n",
    "            running_corrects = 0\n",
    "\n",
    "            # Iterate over data.\n",
    "            for sample_batched in imageLoader:\n",
    "                # get the inputs\n",
    "                inputs = sample_batched['x']\n",
    "                labels = sample_batched['y']\n",
    "\n",
    "                # wrap them in Variable\n",
    "                if use_gpu:\n",
    "                    inputs = Variable(inputs).type(torch.FloatTensor).cuda()\n",
    "                    labels = Variable(labels).type(torch.LongTensor).cuda()\n",
    "                else:\n",
    "                    inputs, labels = Variable(inputs).type(torch.FloatTensor), Variable(labels).type(torch.LongTensor)\n",
    "            \n",
    "\n",
    "                # zero the parameter gradients\n",
    "                optimizer.zero_grad()\n",
    "\n",
    "                # forward\n",
    "                outputs = model(inputs)\n",
    "                _, preds = torch.max(outputs.data, 1)\n",
    "                loss = criterion(outputs, labels)\n",
    "                \n",
    "\n",
    " \n",
    "                # backward + optimize only if in training phase\n",
    "                if phase == 'train':\n",
    "                    loss.backward()\n",
    "                    optimizer.step()\n",
    " \n",
    "                #  statistics\n",
    "                running_loss += loss.data.item() * inputs.size(0)\n",
    "                running_corrects += float(torch.sum(preds == labels.data))\n",
    "\n",
    "\n",
    " \n",
    "            epoch_loss = running_loss / dataset_sizes[phase]\n",
    "            epoch_acc = running_corrects / dataset_sizes[phase]\n",
    "\n",
    "            \n",
    "\n",
    "\n",
    "            if phase == 'train':\n",
    "                loss2plot[0,epoch] = epoch_loss\n",
    "                acc2plot[0,epoch] = epoch_acc\n",
    "            else:\n",
    "                loss2plot[1,epoch] = epoch_loss\n",
    "                acc2plot[1,epoch] = epoch_acc\n",
    "\n",
    "\n",
    "            # deep copy the model\n",
    "            if phase == 'val' and epoch_acc > best_acc:\n",
    "                best_acc = epoch_acc\n",
    "                best_model_wts = copy.deepcopy(model.state_dict())\n",
    "\n",
    "            if verbose:\n",
    "                print('{} Loss: {:.4f} Acc: {:.4f}'.format(\n",
    "                    phase, epoch_loss, epoch_acc))\n",
    "\n",
    "\n",
    "    time_elapsed = time.time() - since\n",
    "    print('Training complete in {:.0f}m {:.0f}s'.format(\n",
    "        time_elapsed // 60, time_elapsed % 60))\n",
    "    print('Best val Acc: {:4f}'.format(best_acc))\n",
    "    \n",
    "\n",
    "    # load best model weights\n",
    "    model.load_state_dict(best_model_wts)\n",
    "    \n",
    "    np.savetxt(\"5.3_loss2plot2.csv\",loss2plot,delimiter=\",\")\n",
    "    np.savetxt(\"5.3_acc2plot2.csv\",acc2plot,delimiter=\",\")\n",
    "    \n",
    "    return model\n",
    "\n",
    "\n",
    "\n",
    "# model_ft = train_model(model_ft, criterion, optimizer_ft,num_epochs=100, trainVal=['train','val'])\n",
    "\n",
    "# torch.save(model_ft.state_dict(), \"model_5.3.pt\")\n",
    "\n"
   ]
  },
  {
   "cell_type": "markdown",
   "metadata": {},
   "source": [
    "## 5.4) (4 points)\n",
    "Train the model for ~100 epochs and save the weights of the best model using the validation loss. Plot train and validation loss curves. Explain the learning behavior of training TL model as a feature extractor using the observations from loss/accuracy curves. "
   ]
  },
  {
   "cell_type": "code",
   "execution_count": 92,
   "metadata": {},
   "outputs": [
    {
     "data": {
      "image/png": "[encoded data removed]",
      "text/plain": [
       "<Figure size 432x288 with 2 Axes>"
      ]
     },
     "metadata": {
      "needs_background": "light"
     },
     "output_type": "display_data"
    },
    {
     "data": {
      "image/png": "[encoded data removed]",
      "text/plain": [
       "<Figure size 432x288 with 2 Axes>"
      ]
     },
     "metadata": {
      "needs_background": "light"
     },
     "output_type": "display_data"
    }
   ],
   "source": [
    "# model was trained on PRINCE HPC\n",
    "# model_ft = train_model(model_ft, criterion, optimizer_ft,num_epochs=25, trainVal=['train','val'])\n",
    "\n",
    "plot_loss_acc(acc_file=\"MLresults/5.3_acc2plot.csv\",loss_file=\"MLresults/5.3_loss2plot.csv\")"
   ]
  },
  {
   "cell_type": "markdown",
   "metadata": {},
   "source": [
    "<font color=\"blue\">\n",
    "\n",
    "Over the 100 epochs, the train loss has been steadily decreasing, until it reaches a plato. Similarly, the trainn accuracy is slowly increasing with minor fluctuation. Those suggest that models are constantly updating. \n",
    "\n",
    "with the validation loss, we see similar pattern as train loss with a few spicks. However the accuracy on validation is not as ideal where it did not increase a lot, whereas has decreased spikes. those suggest the models are overfitting the training data and not very generalized on validation data.\n",
    "\n",
    "On the other hand, with `resnet34`, which are designed to account for RGB photos, our input is not proper. Although we transform our input images to three channels, but they are exact same values with a lot of redundency. These do not fit how resnet34 is designed and need to be considered further. \n",
    "\n",
    "<font>"
   ]
  },
  {
   "cell_type": "markdown",
   "metadata": {},
   "source": [
    "## 6) Analysis of the results from two networks trained on the full dataset (Total 8 points + max 10 points for Bonus Question)\n",
    "Use the validation loss to choose models from Q4 (model1) and Q5(model2) (These models are trained on the full dataset and they learned from train data and generalized well to the validation set). "
   ]
  },
  {
   "cell_type": "markdown",
   "metadata": {},
   "source": [
    "## 6.1)  (4 Points)\n",
    "Using these models, plot confusion matrix and ROC curve for the disease classifier on the test set (HW2_TestSet.csv). Report AUC for this CNN model as the performance metric. You will have two confusion matrices and two ROC curves to compare model1 and model2"
   ]
  },
  {
   "cell_type": "code",
   "execution_count": 110,
   "metadata": {},
   "outputs": [],
   "source": [
    "result_Q4 = pd.read_csv(\"MLresults/test_4.8model.csv\",header=None)\n",
    "result_Q5 = pd.read_csv(\"MLresults/test_5.3model.csv\",header=None)\n",
    "temp = result_Q4.iloc[0,:]"
   ]
  },
  {
   "cell_type": "code",
   "execution_count": 121,
   "metadata": {},
   "outputs": [
    {
     "data": {
      "text/plain": [
       "(array([0.      , 0.359447, 1.      ]),\n",
       " array([0.        , 0.85487528, 1.        ]),\n",
       " array([2., 1., 0.]))"
      ]
     },
     "execution_count": 121,
     "metadata": {},
     "output_type": "execute_result"
    }
   ],
   "source": [
    "sklearn.metrics.roc_curve(result_Q4.iloc[0,:].to_numpy(), result_Q4.iloc[1,:].to_numpy())"
   ]
  },
  {
   "cell_type": "code",
   "execution_count": 127,
   "metadata": {},
   "outputs": [],
   "source": [
    "# This is the place we predict the disease from a model trained, output for this function is \n",
    "#the target values and probabilty of each image having a disease \n",
    "\n",
    "# Example of how to plot ROC curves\n",
    "# https://stackoverflow.com/questions/25009284/how-to-plot-roc-curve-in-python\n",
    "\n",
    "# Example of how to calculate confusion matrix\n",
    "# https://www.kaggle.com/grfiv4/plot-a-confusion-matrix\n",
    "\n",
    "def plot_roc(y_pred,y_true,title = \"ROC\"):\n",
    "    plt.title(title)\n",
    "    fpr, tpr,_ = sklearn.metrics.roc_curve(y_pred,y_true)\n",
    "    plt.plot(fpr, tpr, 'b', label = 'AUC = %0.2f' )\n",
    "    plt.legend(loc = 'lower right')\n",
    "    plt.plot([0, 1], [0, 1],'r--')\n",
    "    plt.xlim([0, 1])\n",
    "    plt.ylim([0, 1])\n",
    "    plt.ylabel('True Positive Rate')\n",
    "    plt.xlabel('False Positive Rate')\n",
    "    plt.show()"
   ]
  },
  {
   "cell_type": "code",
   "execution_count": 130,
   "metadata": {
    "scrolled": true
   },
   "outputs": [
    {
     "data": {
      "image/png": "[encoded data removed]",
      "text/plain": [
       "<Figure size 432x288 with 1 Axes>"
      ]
     },
     "metadata": {
      "needs_background": "light"
     },
     "output_type": "display_data"
    },
    {
     "data": {
      "image/png": "[encoded data removed]",
      "text/plain": [
       "<Figure size 432x288 with 1 Axes>"
      ]
     },
     "metadata": {
      "needs_background": "light"
     },
     "output_type": "display_data"
    }
   ],
   "source": [
    "plot_roc(result_Q4.iloc[0,:].to_numpy(), result_Q4.iloc[1,:].to_numpy(),title=\"Q4 RPC\")\n",
    "plot_roc(result_Q5.iloc[0,:].to_numpy(), result_Q5.iloc[1,:].to_numpy(),title=\"Q5 RPC\")"
   ]
  },
  {
   "cell_type": "code",
   "execution_count": 131,
   "metadata": {},
   "outputs": [
    {
     "data": {
      "text/plain": [
       "array([[139,  78],\n",
       "       [ 64, 377]])"
      ]
     },
     "execution_count": 131,
     "metadata": {},
     "output_type": "execute_result"
    }
   ],
   "source": []
  },
  {
   "cell_type": "code",
   "execution_count": null,
   "metadata": {},
   "outputs": [],
   "source": [
    "def plot_confusion_matrix(cm,\n",
    "                          target_names,\n",
    "                          title='Confusion matrix',\n",
    "                          cmap=None,\n",
    "                          normalize=True):\n",
    "    \"\"\"\n",
    "    given a sklearn confusion matrix (cm), make a nice plot\n",
    "\n",
    "    Arguments\n",
    "    ---------\n",
    "    cm:           confusion matrix from sklearn.metrics.confusion_matrix\n",
    "\n",
    "    target_names: given classification classes such as [0, 1, 2]\n",
    "                  the class names, for example: ['high', 'medium', 'low']\n",
    "\n",
    "    title:        the text to display at the top of the matrix\n",
    "\n",
    "    cmap:         the gradient of the values displayed from matplotlib.pyplot.cm\n",
    "                  see http://matplotlib.org/examples/color/colormaps_reference.html\n",
    "                  plt.get_cmap('jet') or plt.cm.Blues\n",
    "\n",
    "    normalize:    If False, plot the raw numbers\n",
    "                  If True, plot the proportions\n",
    "\n",
    "    Usage\n",
    "    -----\n",
    "    plot_confusion_matrix(cm           = cm,                  # confusion matrix created by\n",
    "                                                              # sklearn.metrics.confusion_matrix\n",
    "                          normalize    = True,                # show proportions\n",
    "                          target_names = y_labels_vals,       # list of names of the classes\n",
    "                          title        = best_estimator_name) # title of graph\n",
    "\n",
    "    Citiation\n",
    "    ---------\n",
    "    http://scikit-learn.org/stable/auto_examples/model_selection/plot_confusion_matrix.html\n",
    "\n",
    "    \"\"\"\n",
    "    import matplotlib.pyplot as plt\n",
    "    import numpy as np\n",
    "    import itertools\n",
    "\n",
    "    accuracy = np.trace(cm) / float(np.sum(cm))\n",
    "    misclass = 1 - accuracy\n",
    "\n",
    "    if cmap is None:\n",
    "        cmap = plt.get_cmap('Blues')\n",
    "\n",
    "    plt.figure(figsize=(8, 6))\n",
    "    plt.imshow(cm, interpolation='nearest', cmap=cmap)\n",
    "    plt.title(title)\n",
    "    plt.colorbar()\n",
    "\n",
    "    if target_names is not None:\n",
    "        tick_marks = np.arange(len(target_names))\n",
    "        plt.xticks(tick_marks, target_names, rotation=45)\n",
    "        plt.yticks(tick_marks, target_names)\n",
    "\n",
    "    if normalize:\n",
    "        cm = cm.astype('float') / cm.sum(axis=1)[:, np.newaxis]\n",
    "\n",
    "\n",
    "    thresh = cm.max() / 1.5 if normalize else cm.max() / 2\n",
    "    for i, j in itertools.product(range(cm.shape[0]), range(cm.shape[1])):\n",
    "        if normalize:\n",
    "            plt.text(j, i, \"{:0.4f}\".format(cm[i, j]),\n",
    "                     horizontalalignment=\"center\",\n",
    "                     color=\"white\" if cm[i, j] > thresh else \"black\")\n",
    "        else:\n",
    "            plt.text(j, i, \"{:,}\".format(cm[i, j]),\n",
    "                     horizontalalignment=\"center\",\n",
    "                     color=\"white\" if cm[i, j] > thresh else \"black\")\n",
    "\n",
    "\n",
    "    plt.tight_layout()\n",
    "    plt.ylabel('True label')\n",
    "    plt.xlabel('Predicted label\\naccuracy={:0.4f}; misclass={:0.4f}'.format(accuracy, misclass))\n",
    "    plt.show()\n",
    "\n"
   ]
  },
  {
   "cell_type": "code",
   "execution_count": 134,
   "metadata": {},
   "outputs": [
    {
     "data": {
      "image/png": "[encoded data removed]",
      "text/plain": [
       "<Figure size 576x432 with 2 Axes>"
      ]
     },
     "metadata": {
      "needs_background": "light"
     },
     "output_type": "display_data"
    },
    {
     "data": {
      "image/png": "[encoded data removed]",
      "text/plain": [
       "<Figure size 576x432 with 2 Axes>"
      ]
     },
     "metadata": {
      "needs_background": "light"
     },
     "output_type": "display_data"
    }
   ],
   "source": [
    "plot_confusion_matrix(cm           = sklearn.metrics.confusion_matrix(result_Q4.iloc[0,:].to_numpy(), result_Q4.iloc[1,:].to_numpy()), \n",
    "                      target_names = ['Cardiomegaly', 'Pneumothorax'],\n",
    "                      title        = \"Model 4.8\")\n",
    "plot_confusion_matrix(cm           = sklearn.metrics.confusion_matrix(result_Q5.iloc[0,:].to_numpy(), result_Q5.iloc[1,:].to_numpy()), \n",
    "                      target_names = ['Cardiomegaly', 'Pneumothorax'],\n",
    "                      title        = \"Model 5.3\")\n",
    " "
   ]
  },
  {
   "cell_type": "markdown",
   "metadata": {},
   "source": [
    "## 6.2) Understanding the network (4 points)\n",
    "Using the best performing model (choose the model using the analysis you performed on Q6.1), we will figure out where our network gathers infomation to decide the class for the image. One way of doing this is to occlude parts of the image and run through your network. By changing the location of the ocluded region we can visualize the probability of image being in one class as a 2-dimensional heat map. Using the best performing model, provide the heat map of the following images: HW2_visualize.csv. Do the heap map and bounding box for pathologies provide similar information? Describe your findings.\n",
    "Reference: https://arxiv.org/pdf/1311.2901.pdf"
   ]
  },
  {
   "cell_type": "code",
   "execution_count": 167,
   "metadata": {},
   "outputs": [],
   "source": [
    "# You can use the code from: https://github.com/thesemicolonguy/convisualize_nb/blob/master/cnn-visualize.ipynb \n",
    "# with minor modifications\n",
    "import scipy.misc\n",
    "import json\n",
    "import pdb\n",
    "\n",
    "model = ResNet_HW2()\n",
    "\n",
    "def to_grayscale(image):\n",
    "    \"\"\"\n",
    "    input is (d,w,h)\n",
    "    converts 3D image tensor to grayscale images corresponding to each channel\n",
    "    \"\"\"\n",
    "    image = torch.sum(image, dim=0)\n",
    "    image = torch.div(image, image.shape[0])\n",
    "    return image\n",
    "\n",
    "def normalize(image):\n",
    "    normalize = transforms.Normalize(\n",
    "    mean=[0.485, 0.456, 0.406],\n",
    "    std=[0.229, 0.224, 0.225]\n",
    "    )\n",
    "    preprocess = transforms.Compose([\n",
    "#    transforms.Resize((224,224)),\n",
    "    transforms.ToTensor(),\n",
    "    normalize\n",
    "    ])\n",
    "    image = Variable(preprocess(image).unsqueeze(0))\n",
    "    return image\n",
    "\n",
    "\n",
    "def predict(image):\n",
    "    _, index = model(image).data[0].max(0)\n",
    "    print(model(image))\n",
    "    #return str(index.item()[0]), labels[str(index.item()[0])][1]\n",
    "    \n",
    "def deprocess(image):\n",
    "    return image * torch.Tensor([0.229, 0.224, 0.225]).cuda()  + torch.Tensor([0.485, 0.456, 0.406]).cuda()\n",
    "\n",
    "def load_image(path):\n",
    "    image = Image.open(path)\n",
    "    plt.imshow(image)\n",
    "    plt.title(\"Image loaded successfully\")\n",
    "    return image\n",
    "def layer_outputs(image):\n",
    "    outputs = []\n",
    "    names = []\n",
    "    for layer in modulelist[1:]:\n",
    "        image = layer(image)\n",
    "        outputs.append(image)\n",
    "        names.append(str(layer))\n",
    "        \n",
    "    output_im = []\n",
    "    for i in outputs:\n",
    "        i = i.squeeze(0)\n",
    "        temp = to_grayscale(i)\n",
    "        output_im.append(temp.data.cpu().numpy())\n",
    "        \n",
    "    fig = plt.figure()\n",
    "    plt.rcParams[\"figure.figsize\"] = (30, 50)\n",
    "\n",
    "\n",
    "    for i in range(len(output_im)):\n",
    "        a = fig.add_subplot(8,4,i+1)\n",
    "        imgplot = plt.imshow(output_im[i])\n",
    "        plt.axis('off')\n",
    "        a.set_title(names[i].partition('(')[0], fontsize=30)\n",
    "\n",
    "    plt.savefig('layer_outputs.jpg', bbox_inches='tight')"
   ]
  },
  {
   "cell_type": "code",
   "execution_count": 148,
   "metadata": {},
   "outputs": [],
   "source": [
    "model.load_state_dict(torch.load(\"MLresults/model_4.8.pt\",map_location='cpu'))"
   ]
  },
  {
   "cell_type": "code",
   "execution_count": 201,
   "metadata": {},
   "outputs": [
    {
     "data": {
      "image/png": "[encoded data removed]",
      "text/plain": [
       "<Figure size 432x288 with 1 Axes>"
      ]
     },
     "metadata": {
      "needs_background": "light"
     },
     "output_type": "display_data"
    }
   ],
   "source": [
    "kitten_1 = load_image(\"./00018837_000.png\")\n",
    "#labels = json.load(open('labels/imagenet_class_index.json'))\n",
    "kitten_2 = normalize(kitten_1)\n",
    "#print(kitten_2.shape)\n",
    "# model(kitten_2)\n",
    "# print(predict(kitten_2))\n",
    "#modulelist = list([\"conv1\",\"relu\",\"maxpool\",\"resnet1\",\"conv2\",\"relu\",\"maxpool\",\"resnet2\",\"FC\"])\n",
    "#layer_outputs(kitten_2)"
   ]
  },
  {
   "cell_type": "code",
   "execution_count": 198,
   "metadata": {},
   "outputs": [],
   "source": [
    "def make_heatmap(image, true_class, k=3, stride=2): \n",
    "    \"\"\"\n",
    "    Input image is of size (1, c, w, h) typically (1, 3, 224, 224) for vgg16\n",
    "    true_class is a number corresponding to imagenet classes\n",
    "    k in the filter size (c, k, k)\n",
    "    \"\"\"\n",
    "    heatmap = torch.zeros(int(((image.shape[2]-k)/stride)+1), int(((image.shape[3]-k)/stride)+1))\n",
    "    image = image.data\n",
    "\n",
    "    i = 0\n",
    "    a = 0\n",
    "    while i<=image.shape[3]-k:\n",
    "        j = 0 \n",
    "        b = 0\n",
    "        while j<=image.shape[2]-k:\n",
    "            h_filter = torch.ones(image.shape)\n",
    "            h_filter[:,:,j:j+k, i:i+k] = 0\n",
    "            temp_image = Variable((image * h_filter))\n",
    "            temp_softmax = model(temp_image)\n",
    "            temp_softmax = torch.nn.functional.softmax(temp_softmax).data[0]\n",
    "            heatmap[a][b] = temp_softmax[true_class]\n",
    "            j += stride\n",
    "            b += 1\n",
    "        print(a)\n",
    "        i += stride\n",
    "        a += 1\n",
    "    \n",
    "    image = image.squeeze()\n",
    "    \n",
    "    true_image = image.transpose(0,1)\n",
    "    true_image = true_image.transpose(1,2)\n",
    "    # Un-Normalize image\n",
    "    true_image = true_image * torch.Tensor([0.229, 0.224, 0.225]).cuda()  + torch.Tensor([0.485, 0.456, 0.406]).cuda()\n",
    "    \n",
    "    # Plot both images\n",
    "    fig = plt.figure()\n",
    "    plt.rcParams[\"figure.figsize\"] = (20, 20)\n",
    "    \n",
    "    a = fig.add_subplot(1,2,1)\n",
    "    imgplot = plt.imshow(true_image)\n",
    "    plt.title('Original Image')\n",
    "    plt.axis('off') \n",
    "    \n",
    "    # Normalize heatmap\n",
    "    heatmap = heatmap - heatmap.min()\n",
    "#     heatmap = heatmap/heatmap.max()\n",
    "    heatmap = np.uint8(255 * heatmap)\n",
    "    \n",
    "    a = fig.add_subplot(1,2,2)\n",
    "    imgplot = plt.imshow(heatmap)\n",
    "    plt.title('Heatmap')\n",
    "    plt.axis('off') \n",
    "    \n",
    "    return heatmap\n"
   ]
  },
  {
   "cell_type": "code",
   "execution_count": 203,
   "metadata": {},
   "outputs": [
    {
     "name": "stdout",
     "output_type": "stream",
     "text": [
      "tensor(0)\n",
      "tensor([[-0.0711, -0.1307]], grad_fn=<AddmmBackward>)\n"
     ]
    },
    {
     "data": {
      "image/png": "[encoded data removed]",
      "text/plain": [
       "<Figure size 432x288 with 1 Axes>"
      ]
     },
     "metadata": {
      "needs_background": "light"
     },
     "output_type": "display_data"
    }
   ],
   "source": [
    "kitten_1 = load_image(\"./00018837_000.png\")\n",
    "#labels = json.load(open('labels/imagenet_class_index.json'))\n",
    "kitten_2 = normalize(kitten_1)\n",
    "predict(kitten_2)\n",
    "#make_heatmap(kitten_2, 0, k=3, stride=2)\n"
   ]
  },
  {
   "cell_type": "code",
   "execution_count": 213,
   "metadata": {},
   "outputs": [],
   "source": [
    "def make_saliency_map(input, label):\n",
    "    input = Variable(input, requires_grad=True)\n",
    "    output = model.forward(input)\n",
    "    output[0][label].backward()\n",
    "    grads = input.grad.data.clamp(min=0)\n",
    "    grads.squeeze_()\n",
    "#     grads.transpose_(0,1)\n",
    "#     grads.transpose_(1,2)\n",
    "    grads = np.amax(grads.cpu().numpy(), axis=2)\n",
    "    \n",
    "    true_image = input.data\n",
    "    true_image = true_image.squeeze()\n",
    "#     true_image = true_image.transpose(0,1)\n",
    "#     true_image = true_image.transpose(1,2)\n",
    "    true_image = deprocess(true_image)\n",
    "\n",
    "    fig = plt.figure()\n",
    "    plt.rcParams[\"figure.figsize\"] = (20, 20)\n",
    "\n",
    "\n",
    "    a = fig.add_subplot(1,2,1)\n",
    "    imgplot = plt.imshow(true_image)\n",
    "    plt.title('Original Image')\n",
    "    plt.axis('off') \n",
    "\n",
    "    a = fig.add_subplot(1,2,2)\n",
    "    imgplot = plt.imshow(grads)\n",
    "    plt.axis('off') \n",
    "    plt.title('Saliency Map')\n",
    "    \n",
    "    return grads"
   ]
  },
  {
   "cell_type": "code",
   "execution_count": 215,
   "metadata": {},
   "outputs": [],
   "source": [
    "#make_saliency_map(kitten_2,0)"
   ]
  },
  {
   "cell_type": "markdown",
   "metadata": {},
   "source": [
    "## 6.3 ) Your CNN architecture design (Bonus Question Maximum 12 Points)\n",
    "Be creative and design your own CNN model. This model can be some variation of the baseline model using the information from hyperparameter search or it can be a totally new architecture. Use the knowledge you gained from previous questions to design your network. Because of this reason, your network is expected to provide superior results. After you trained your network on the whole train set, choose the best performaing model using the loss on the whole validation set. Provide the confusion matrix, ROC curves and macro AUC for your best performing model using the whole test set. Explain your design criteria and why your performance is better compared to the baseline model. Some architecture change suggestions: convolution filter dimensions, dilated convolutions, network without a fully connected layer, deeper networks, data augmentation ...     "
   ]
  },
  {
   "cell_type": "markdown",
   "metadata": {},
   "source": [
    "<font color=\"blue\">\n",
    "\n",
    "My strategy is to add a batch normalization layer after relu. \n",
    "\n",
    "My rationale is after relu, the net work weights will be some times sparse with lots of 0. In this way, it will not  be very efficient for evaluate the updates on covolutional filters. Because essentially the updated weights multiply by 0 is still 0. \n",
    "\n",
    "To cope with this issue, I consider use either a leaky relu or batch normalization. \n",
    "    \n",
    "<font>    "
   ]
  },
  {
   "cell_type": "code",
   "execution_count": null,
   "metadata": {},
   "outputs": [],
   "source": [
    "class ResNet_HW2_Q6(nn.Module):\n",
    "\n",
    "    def __init__(self, num_classes=2):\n",
    "        super(ResNet_HW2, self).__init__()\n",
    "        self.inplanes = 64\n",
    "        self.normalize = nn.BatchNorm2d()\n",
    "        self.conv1 = conv3x3(1,16,stride=2)\n",
    "        self.conv2 = conv3x3(16,32,stride=2)\n",
    "        self.layer1 = BasicBlock(16, 16, stride=1, downsample=None, norm_layer=None)\n",
    "        self.layer2 = BasicBlock(32, 32, stride=1, downsample=None, norm_layer=None)\n",
    "        self.relu = nn.ReLU(inplace=True)\n",
    "        self.maxpool = nn.MaxPool2d(kernel_size=2, stride=2)\n",
    "        self.fc = nn.Linear(131072 , 64)\n",
    "        self.classify = nn.Linear(64, num_classes)\n",
    "\n",
    "\n",
    "    def forward(self, x):\n",
    "\n",
    "        x = self.conv1(x)\n",
    "        x = self.relu(x)\n",
    "        x = self.normalize(x)\n",
    "        x = self.maxpool(x)\n",
    "\n",
    "        x = self.layer1(x)\n",
    "        \n",
    "        x = self.conv2(x)\n",
    "        x = self.relu(x)\n",
    "        x = self.normalize(x)\n",
    "        x = self.maxpool(x)\n",
    "        \n",
    "        x = self.layer2(x)\n",
    "        \n",
    "        x = x.view(x.size(0), -1)\n",
    "        x = self.fc(x)\n",
    "        \n",
    "        x = self.classify(x)\n",
    "        \n",
    "        return x"
   ]
  },
  {
   "cell_type": "markdown",
   "metadata": {},
   "source": [
    "<font color=\"blue\">\n",
    "    \n",
    "\n",
    "\n",
    "<font>"
   ]
  },
  {
   "cell_type": "code",
   "execution_count": 65,
   "metadata": {},
   "outputs": [
    {
     "data": {
      "image/png": "[encoded data removed]",
      "text/plain": [
       "<Figure size 432x288 with 2 Axes>"
      ]
     },
     "metadata": {
      "needs_background": "light"
     },
     "output_type": "display_data"
    },
    {
     "data": {
      "image/png": "[encoded data removed]",
      "text/plain": [
       "<Figure size 432x288 with 2 Axes>"
      ]
     },
     "metadata": {
      "needs_background": "light"
     },
     "output_type": "display_data"
    }
   ],
   "source": []
  }
 ],
 "metadata": {
  "kernelspec": {
   "display_name": "Python 3",
   "language": "python",
   "name": "python3"
  },
  "language_info": {
   "codemirror_mode": {
    "name": "ipython",
    "version": 3
   },
   "file_extension": ".py",
   "mimetype": "text/x-python",
   "name": "python",
   "nbconvert_exporter": "python",
   "pygments_lexer": "ipython3",
   "version": "3.7.1"
  }
 },
 "nbformat": 4,
 "nbformat_minor": 2
}
