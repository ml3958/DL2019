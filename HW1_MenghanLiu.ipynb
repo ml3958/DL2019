{
 "cells": [
  {
   "cell_type": "markdown",
   "metadata": {},
   "source": [
    "# Deep Learning in Medicine\n",
    "### BMSC-GA 4493, BMIN-GA 3007 \n",
    "### Spring 2019\n",
    "### Homework 1"
   ]
  },
  {
   "cell_type": "markdown",
   "metadata": {},
   "source": [
    "Note: If you need to write mathematical terms, you can type your answeres in a Markdown Cell via LaTex \n",
    "\n",
    "See: <a href=\"https://stackoverflow.com/questions/13208286/how-to-write-latex-in-ipython-notebook\">here</a> if you have issues with writing equations. To see basic LaTex notation see: <a href=\"https://en.wikibooks.org/wiki/LaTeX/Mathematics\"> here </a>.\n",
    "\n",
    "**Submission instruction**: Upload and Submit your final jupyter notebook file in <a href='http://newclasses.nyu.edu '>newclasses.nyu.edu</a>\n",
    "<br>\n",
    "**Submission deadline: Tuesday Feb 26th 2019 (3pm) **\n",
    "\n",
    "**Questions and Clarifications**: You can reach out to your TAs Chhavi Yadav (chhavi[at]nyu.edu), Ren Yi (ren.yi[at]nyu.edu), and Aakash Kaku (ark576[at]nyu.edu)."
   ]
  },
  {
   "cell_type": "markdown",
   "metadata": {},
   "source": [
    "---\n",
    "# Question 1: Take Derivatives!  (Total 25 points)\n",
    "### Take derivatives of function f(x) with respect to x in questions 1.1 to 1.5. (1 point each)\n",
    "### For 1.6 and 1.7 take partial derivatives of f(X, A) with respect to each $a_i$ and $x_i$. (4 points each)\n",
    "### You can use conditions in your response to 1.8, 1.9, and 1.10 if needed. For some special values          \n",
    "\n",
    "\n",
    "\n",
    "\n",
    "\n",
    "\n",
    "of x, derivative may not exist, and that's ok. (4 points each)\n"
   ]
  },
  {
   "cell_type": "markdown",
   "metadata": {},
   "source": [
    "1.1.  $f(x) = 5(x-4)^3 + x -1 $"
   ]
  },
  {
   "cell_type": "markdown",
   "metadata": {},
   "source": [
    "<font color='blue'>     $$f'(x) = 15(x-4)^2 +1 $$ </font>"
   ]
  },
  {
   "cell_type": "markdown",
   "metadata": {},
   "source": [
    "1.2. $f(x) = e^x + e^{-x}$"
   ]
  },
  {
   "cell_type": "markdown",
   "metadata": {
    "collapsed": true
   },
   "source": [
    "<font color='blue'> $$f'(x) = e^x - e^{-x} $$ </font>"
   ]
  },
  {
   "cell_type": "markdown",
   "metadata": {},
   "source": [
    "1.3. $f(x) = \\frac{1}{x}$"
   ]
  },
  {
   "cell_type": "markdown",
   "metadata": {
    "collapsed": true
   },
   "source": [
    "<font color='blue'> $$f'(x) = -x^{-2} $$ </font>"
   ]
  },
  {
   "cell_type": "markdown",
   "metadata": {
    "collapsed": true
   },
   "source": [
    "1.4. $f(x) = \\frac{1}{1+e^{-x}}$"
   ]
  },
  {
   "cell_type": "markdown",
   "metadata": {},
   "source": [
    "<font color='blue'> $$f'(x) = \\frac{e^{-x}}{(1+e^{-x})^2} $$"
   ]
  },
  {
   "cell_type": "markdown",
   "metadata": {},
   "source": [
    "1.5. $f(x) = log_e(x) + log_e(5x) $"
   ]
  },
  {
   "cell_type": "markdown",
   "metadata": {
    "collapsed": true
   },
   "source": [
    "<font color='blue'> $$f'(x) = \\frac{2}{x} $$"
   ]
  },
  {
   "cell_type": "markdown",
   "metadata": {},
   "source": [
    "1.6. $f(A,X) = \\sum_{i=1}^5 log_e(a_i * x_i)$ \n",
    "<br>\n",
    "where $A = (a_1, a_2, a_3, a_4, a_5)$ and $X = (x_1, x_2, x_3, x_4, x_5)$"
   ]
  },
  {
   "cell_type": "markdown",
   "metadata": {
    "collapsed": true
   },
   "source": [
    "<font color='blue'> $$\\frac{d}{da_{i}}f(A,X) = \\frac{1}{a_{i}} $$\n",
    "    \n",
    "$$\\frac{d}{dx_{i}}f(A,X) = \\frac{1}{x_{i}} $$"
   ]
  },
  {
   "cell_type": "markdown",
   "metadata": {},
   "source": [
    "1.7. $f(A,X) = \\sum_{i=1}^5 log_e(\\frac{1}{1+e^{-a_i*x_i}})$\n",
    "<br>\n",
    "where $A = (a_1, a_2, a_3, a_4, a_5)$ and $X = (x_1, x_2, x_3, x_4, x_5)$"
   ]
  },
  {
   "cell_type": "markdown",
   "metadata": {
    "collapsed": true
   },
   "source": [
    "\n",
    "<font color='blue'> $$ \\frac{d}{da_{i}}f(A,X) = \\frac{x_{i}}{e^{a_{i}x_{i}}+1} $$\n",
    "    \n",
    "$$\\frac{d}{dx_{i}}f(A,X) = \\frac{a_{i}}{e^{a_{i}x_{i}}+1} $$\n"
   ]
  },
  {
   "cell_type": "markdown",
   "metadata": {},
   "source": [
    "1.8. $ f(x) =\n",
    "  \\begin{cases}\n",
    "    x & \\text{if $x>0$} \\\\\n",
    "    0 & \\text{otherwise}\n",
    "  \\end{cases}$"
   ]
  },
  {
   "cell_type": "markdown",
   "metadata": {
    "collapsed": true
   },
   "source": [
    "<font color='blue'>\n",
    "    $$ f‘(x) =\n",
    "  \\begin{cases}\n",
    "    1 & \\text{if $x>0$} \\\\\n",
    "    0 & \\text{otherwise}\n",
    "  \\end{cases}$$"
   ]
  },
  {
   "cell_type": "markdown",
   "metadata": {},
   "source": [
    "1.9. $f(x) = | x | $\n",
    "<br>\n",
    "($|x|$ means absolute value of x)"
   ]
  },
  {
   "cell_type": "markdown",
   "metadata": {
    "collapsed": true
   },
   "source": [
    "<font color='blue'>\n",
    "    $$ f‘(x) =\n",
    "  \\begin{cases}\n",
    "    1 & \\text{if   $x>0$}  \\\\\n",
    "    -1 & \\text{if   $x<0$}\n",
    "  \\end{cases}$$"
   ]
  },
  {
   "cell_type": "markdown",
   "metadata": {},
   "source": [
    "1.10. $f(x) = max(x,  x^2)$"
   ]
  },
  {
   "cell_type": "markdown",
   "metadata": {
    "collapsed": true
   },
   "source": [
    "<font color='blue'>\n",
    "    $$ f‘(x) =\n",
    "  \\begin{cases}\n",
    "    1 & \\text{if $0<x<1$} \\\\\n",
    "    2x & \\text{otherwise}\n",
    "  \\end{cases}$$"
   ]
  },
  {
   "cell_type": "markdown",
   "metadata": {},
   "source": [
    "---\n",
    "# Question 2: Solving Linear Regression via Mean Squared Error (MSE) Optimization Problem (30 points)"
   ]
  },
  {
   "cell_type": "markdown",
   "metadata": {},
   "source": [
    "Imagine that you have measured two variables X and Y, for a simple task, and you belive that they might be linearly related to each other. Here, our input X has 2 dimensions, and the output has 1 dimension. We will use super-script to indicate which sample it is, and sub-scipt to indicate which dimension it is. \n",
    "The measurements are as follows:\n",
    "\n",
    "###### (Training data D = {($X^1$, $Y^1$), ($X^2$, $Y^2$), ($X^3$, $Y^3$)})\n",
    "\n",
    "Sample 1: $X^1 = (x_1^1, x_2^1) = (1,1)$,   $Y^1$ = 6\n",
    "\n",
    "Sample 2: $X^2 = (x_1^2, x_2^2) = (2,3)$,   $Y^2$ = 11\n",
    "\n",
    "Sample 3: $X^3 = (x_1^3, x_2^3) = (-1,0)$,   $Y^3$ = 2\n",
    "\n"
   ]
  },
  {
   "cell_type": "markdown",
   "metadata": {},
   "source": [
    "If we assume that the relationship between X and Y is linear, we can write this relationship as:"
   ]
  },
  {
   "cell_type": "markdown",
   "metadata": {},
   "source": [
    "$Y = f_{W,B}(X) = WX + B = w_1*x_1 + w_2*x_2 + B$"
   ]
  },
  {
   "cell_type": "markdown",
   "metadata": {},
   "source": [
    "where $W = (w_1, w_2)$ and $B$ are the parameters of the model.\t\n",
    "We are interested in finding best values for W and B.\t\n",
    "We define 'best' in terms of a loss function between $f_{W,b}(X_i)$ and $Y_i$ for each ($X_i$ and $Y_i$) in the training data. \t\n",
    "Since $Y_i$s are real numbers, let's consider Mean Squared Error loss. "
   ]
  },
  {
   "cell_type": "markdown",
   "metadata": {},
   "source": [
    "Remember that Mean Squared Error for this function, over training data, and W and B is:\n",
    "\n",
    "$MSELoss(D={(X_1, Y_1), (X_2, Y_2), (X_3, Y_3)}), W, B) = \\frac{1}{3}\\sum_{i=1}^{3} (f_{W,B}(X_i) - Y_i)^2 $"
   ]
  },
  {
   "cell_type": "markdown",
   "metadata": {},
   "source": [
    "### 2.1) (9 points) \n",
    "Compute the partial derivative of $MESLoss(D, W, B)$, With respect to W and B.\t\n",
    "Remember that $X_1$, $X_2$, $X_3$, $Y_1$, $Y_2$, and $Y_3$ are constants, and already given to us as training data above."
   ]
  },
  {
   "cell_type": "markdown",
   "metadata": {
    "collapsed": true
   },
   "source": [
    "<font color='blue'>\n",
    "    $$ 𝑀𝑆𝐸𝐿𝑜𝑠𝑠 = \\frac{1}{3}((w_1+w_2+B-6)^2 + (2w_1+3w_2+B-11)^2 + (-w_1+B-2)^2) $$\n",
    "    \n",
    "    \n",
    "   $$\\frac{d}{d w_1} MSELoss(D, W, B) = \\frac{1}{3} (12w_1 + 14w_2 + 4B -52)   $$\n",
    "\n",
    "$$\\frac{d}{d w_2} MSELoss(D, W, B) = \\frac{1}{3} (14w_1 + 20w_2 + 8B -78)   $$ \n",
    "\n",
    "$$\\frac{d}{d B} MSELoss(D, W, B) = \\frac{1}{3} (4w_1 + 8w_2 + 6B -38)  $$"
   ]
  },
  {
   "cell_type": "markdown",
   "metadata": {},
   "source": [
    "### 2.2) (3 points) \n",
    "Use matplotlib library and plot $\\frac{d}{d w1} MSELoss(D, W, B)$ for $w_1 = np.arange(0,2,0.1)$, when $w_2$ equals 2, and B equals to 3."
   ]
  },
  {
   "cell_type": "code",
   "execution_count": 255,
   "metadata": {},
   "outputs": [
    {
     "data": {
      "text/plain": [
       "[<matplotlib.lines.Line2D at 0x13872e080>]"
      ]
     },
     "execution_count": 255,
     "metadata": {},
     "output_type": "execute_result"
    },
    {
     "data": {
      "image/png": "[encoded data removed]",
      "text/plain": [
       "<Figure size 432x288 with 1 Axes>"
      ]
     },
     "metadata": {
      "needs_background": "light"
     },
     "output_type": "display_data"
    }
   ],
   "source": [
    "import matplotlib.pyplot as plt\n",
    "import numpy as np\n",
    "import math\n",
    "\n",
    "W2 = 2; B=3 \n",
    "W1 = np.arange(0, 2, 0.1)\n",
    "loss = 1/3*(12*W1 + 14*W2+ 4*B-52)\n",
    "plt.plot(W1,loss)\n"
   ]
  },
  {
   "cell_type": "markdown",
   "metadata": {},
   "source": [
    "### 2.3) (3 points) \n",
    "What values of $w_1$, $w_2$ and $B$, make all partial derivatives zero?"
   ]
  },
  {
   "cell_type": "markdown",
   "metadata": {
    "collapsed": true
   },
   "source": [
    "<font color='blue'>\n",
    "    solve the three multivariate linear equations:\n",
    "$$ \\frac{1}{3} (12w_1 + 14w_2 + 4B -52)  =0 $$\n",
    "\n",
    "$$ \\frac{1}{3} (14w_1 + 20w_2 + 8B -78)  =0 $$ \n",
    "\n",
    "$$ \\frac{1}{3} (4w_1 + 8w_2 + 6B -38)  =0$$\n",
    "\n",
    "\n",
    "    "
   ]
  },
  {
   "cell_type": "code",
   "execution_count": 256,
   "metadata": {},
   "outputs": [
    {
     "name": "stdout",
     "output_type": "stream",
     "text": [
      "[1. 2. 3.]\n"
     ]
    }
   ],
   "source": [
    "\n",
    "a = np.array([[12,14,4],[14,20,8],[4,8,6]])\n",
    "b = np.array([52,78,38])\n",
    "# print(a); print(b)\n",
    "print(np.linalg.solve(a,b))"
   ]
  },
  {
   "cell_type": "markdown",
   "metadata": {},
   "source": [
    "<font color='blue'>  the solution is \n",
    "    \n",
    "<font color='blue'>        $𝑤_1=1, w_2 = 2, B=3$"
   ]
  },
  {
   "cell_type": "markdown",
   "metadata": {},
   "source": [
    "### 2.4) (10 points) \n",
    "If you start from an initial point $w_1^0 = 0.1$ , $w_2^0 = 0.1$ and $B^0 = 0.1$, and iteratively update your $w_1$, $w_2$, and B via gradient descent as follows:\n",
    "    \n",
    "$ w_1^{t+1} = w_1^t - 0.01 * \\frac{d}{d w_1} MSELoss(D, W, B) |_{w_1^t,w_2^t,B^t} $\t\n",
    "$ w_2^{t+1} = w_2^t - 0.01 * \\frac{d}{d w_2} MSELoss(D, W, B) |_{w_1^t,w_2^t,B^t} $\t\n",
    "$ B^{t+1} = B^t - 0.01 * \\frac{d}{d B} MSELoss(D, W, B) |_{w_1^t,w_2^t,B^t} $\t\n",
    "(Note: This is gradient descent with a 0.01 learning rate.)\n",
    "\n",
    "What are the values of Ws and B over iterations 0 to 50? (Don't compute by hand! Write a code!)\t\n",
    "Write a python script that computes these values for 50 iterations, i.e. lists of $\\{w_1^0, w^1_1,.., w_1^{50}\\}$, $\\{w_2^0, w_2^1,.., w_2^{50}\\}$, and $\\{B^0, B^1,.., B^{50}\\}$.\t\n",
    "Plot the lists of $w_1$s, $w_2$s and Bs over 50 iterations.\n",
    "\n"
   ]
  },
  {
   "cell_type": "code",
   "execution_count": 257,
   "metadata": {},
   "outputs": [
    {
     "data": {
      "text/plain": [
       "<matplotlib.legend.Legend at 0x137e865c0>"
      ]
     },
     "execution_count": 257,
     "metadata": {},
     "output_type": "execute_result"
    },
    {
     "data": {
      "image/png": "[encoded data removed]",
      "text/plain": [
       "<Figure size 432x288 with 1 Axes>"
      ]
     },
     "metadata": {
      "needs_background": "light"
     },
     "output_type": "display_data"
    }
   ],
   "source": [
    "w1 = 0.1; w2 = 0.1; b=0.1\n",
    "W1 = []; W2 = []; B =[]\n",
    "\n",
    "for i in range(50):\n",
    "    W1.append(w1)\n",
    "    W2.append(w2)\n",
    "    B.append(b)    \n",
    "    w1 -= 0.01 *1/3 *(12*w1+14*w2+4*b-52)\n",
    "    w2 -=  0.01 *1/3 *(14*w1+20*w2+8*b-78)\n",
    "    b -= 0.01 * 1/3* (4*w1+8*w2+6*b-38)\n",
    "\n",
    "plt.plot(W1,label=\"w_1\")\n",
    "plt.plot(W2,label=\"w_2\")\n",
    "plt.plot(B, label = \"B\")\n",
    "plt.legend()"
   ]
  },
  {
   "cell_type": "markdown",
   "metadata": {},
   "source": [
    "### 2.5) (10 points) \n",
    "Now that you learned the math and made the code yourself, we will use pytorch and automatic differentiation, to find optimal W and B!\t\n",
    "Again, consider data to be D = {($X_1$, $Y_1$), ($X_2$, $Y_2$), ($X_3$, $Y_3$)}) = {((1,1), 6), ((2,3),11), ((-1,0),2)}.\n",
    "\n",
    "Some of your steps are here. Fill in the rest and show a plot of the loss function, $w_1$, $w_2$ and B over these 10 epochs. (4 plots total)"
   ]
  },
  {
   "cell_type": "code",
   "execution_count": 258,
   "metadata": {},
   "outputs": [],
   "source": [
    "import torch\n",
    "import torch.nn as nn\n",
    "import numpy as np\n",
    "from torch import optim\n",
    "from random import shuffle\n",
    "\n",
    "D = [((1,1), 6), ((2,3),11), ((-1,0),2)]\n",
    "X = [d[0] for d in D]\n",
    "Y = [d[1] for d in D]\n",
    "# print('data X is:', X)\n",
    "# print('data Y is:', Y)\n",
    "\n",
    "model = torch.nn.Linear(2, 1, bias=True)\n",
    "optimizer = optim.SGD(model.parameters(), lr=0.01)\n",
    "loss = torch.nn.MSELoss()\n",
    "\n",
    "losslist = []\n",
    "w1list = []\n",
    "w2list = []\n",
    "blist = []\n",
    "\n",
    "order = np.arange(len(X))\n",
    "lossout=0\n",
    "\n",
    "for epoch in range(10):\n",
    "        # Loop over your training data in the new order:\n",
    "        #dont forget to: optimizer.zero_grad()\n",
    "        #prepare your x_input and y_target if needed\n",
    "        #send the data through your model: i.e. pred_i = model(x_input)\n",
    "        #send the prediction through the loss function too: i.e. lossout= loss(pred_i, y_target)\n",
    "        #call backward to back-propagate: i.e. lossout.backward()\n",
    "        #call optimizer.step() to update the model parameters based on the computed gradients\n",
    "        #keep the w1s, w2s, and bs, and loss value some list so you can plot them later\n",
    "    optimizer.zero_grad()\n",
    "#     shuffle(order) # Shuffle your training data samples\n",
    "    X_input = torch.tensor(np.array(X,dtype='f')[order],requires_grad=True)\n",
    "    Y_input = torch.tensor(np.array(Y,dtype='f')[order],requires_grad=True)\n",
    "    pred_i = model(X_input)\n",
    "    lossout = loss(pred_i,Y_input)\n",
    "    losslist.append(lossout.item())   \n",
    "    # compute_gradient\n",
    "    lossout.backward()        \n",
    "    # Step into gradient descent direction. Perform parameter update\n",
    "    optimizer.step()\n",
    "    \n",
    "    w1list.append(optimizer.param_groups[0]['params'][0].squeeze().detach().numpy()[0])\n",
    "    w2list.append(optimizer.param_groups[0]['params'][0].squeeze().detach().numpy()[1])\n",
    "    blist.append(optimizer.param_groups[0]['params'][1].item())\n",
    "\n",
    "\n",
    "#plot the losslist, w1s, w2s, and bs.   \n",
    "# print(pred_i)\n",
    "# print(pred_i.squeeze())\n",
    "# print(lossout)\n",
    "# print(losslist)\n",
    "# print(w1list)\n",
    "# print(w2list)\n",
    "# print(blist)"
   ]
  },
  {
   "cell_type": "code",
   "execution_count": 260,
   "metadata": {},
   "outputs": [
    {
     "data": {
      "text/plain": [
       "<matplotlib.legend.Legend at 0x13e72c860>"
      ]
     },
     "execution_count": 260,
     "metadata": {},
     "output_type": "execute_result"
    },
    {
     "data": {
      "image/png": "[encoded data removed]",
      "text/plain": [
       "<Figure size 432x288 with 1 Axes>"
      ]
     },
     "metadata": {
      "needs_background": "light"
     },
     "output_type": "display_data"
    },
    {
     "data": {
      "image/png": "[encoded data removed]",
      "text/plain": [
       "<Figure size 432x288 with 1 Axes>"
      ]
     },
     "metadata": {
      "needs_background": "light"
     },
     "output_type": "display_data"
    },
    {
     "data": {
      "image/png": "[encoded data removed]",
      "text/plain": [
       "<Figure size 432x288 with 1 Axes>"
      ]
     },
     "metadata": {
      "needs_background": "light"
     },
     "output_type": "display_data"
    },
    {
     "data": {
      "image/png": "[encoded data removed]",
      "text/plain": [
       "<Figure size 432x288 with 1 Axes>"
      ]
     },
     "metadata": {
      "needs_background": "light"
     },
     "output_type": "display_data"
    }
   ],
   "source": [
    "# print(losslist)\n",
    "plt.figure(0)\n",
    "plt.plot(losslist,label=\"loss\")\n",
    "plt.legend()\n",
    "\n",
    "plt.figure(1)\n",
    "plt.plot(w1list,label=\"w1\")\n",
    "plt.legend()\n",
    "\n",
    "plt.figure(2)\n",
    "plt.plot(w2list, label = \"w2\")\n",
    "plt.legend()\n",
    "\n",
    "\n",
    "plt.figure(3)\n",
    "plt.plot(blist, label = \"B\")\n",
    "plt.legend()\n"
   ]
  },
  {
   "cell_type": "markdown",
   "metadata": {},
   "source": [
    "---\n",
    "# Question 3: Learning Curves, Overfitting, and Machine Learning! (45 Points + 7 Bonus Points)\n"
   ]
  },
  {
   "cell_type": "markdown",
   "metadata": {},
   "source": [
    "Now we know how to optimize, let's get some real machine learning done!\n",
    "\n",
    "Instead of the small dataset we had in question 2, now we will use the Diabetes Dataset which can be downloaded from [here](https://drive.google.com/drive/folders/1nuZg4pMFvOZHCHxtU5gBEnHq9YJBdZX_).\n",
    "\n",
    "In this dataset, we are trying to predict if a person doesn't have diabetes (0), has diabetes in Stage 1 or in Stage 2. The output labels can be found in Output.csv. All the other files will be used as Input. From these files, the columns that we are interested in and what they stand for are as follows :\n",
    "                          \n",
    "                          SEQN : ID\n",
    "                          \n",
    "                          RIAGENDR : Gender\n",
    "                          \n",
    "                          DMDYRSUS : Years in US\n",
    "                          \n",
    "                          INDFMPIR : Family income\n",
    "                          \n",
    "                          LBXGH : GlycoHemoglobin\n",
    "                          \n",
    "                          BMXARMC : Arm Circum\n",
    "                          \n",
    "                          BMDAVSAD : Saggital Abdominal\n",
    "                          \n",
    "                          MGDCGSZ : Grip Strength\n",
    "                          \n",
    "                          DRABF : Breast fed\n",
    "\n",
    "We will use the first 6000 samples for training while the rest for testing.\n",
    "\n",
    "Solve questions 3.1 to 3.7 with this information."
   ]
  },
  {
   "cell_type": "markdown",
   "metadata": {},
   "source": [
    "## 3.1 Data Analysis (5 points)\n",
    "\n",
    "Read the input csvs. Rename the variables with their meaningful names shown above.<br>\n",
    "Print all the desired variables in the training set with their count, mean, standard deviation and range. \n",
    "\n",
    "__Hint__ : If you are using pandas, it might save some time to look for a built-in function that returns all these!"
   ]
  },
  {
   "cell_type": "code",
   "execution_count": 261,
   "metadata": {},
   "outputs": [],
   "source": [
    "import glob\n",
    "import pandas as pd\n",
    "\n",
    "path =r'/Users/menghanliu/Downloads/Diabetes-Dataset/' # use your path\n",
    "allFiles = glob.glob(path + \"/*.csv\")\n",
    "\n",
    "#print(allFiles)\n",
    "pd.read_csv(allFiles[0],index_col=0, delimiter=',',encoding = \"ISO-8859-1\")\n",
    "\n",
    "list_ = []\n",
    "\n",
    "for file in allFiles:\n",
    "    df = pd.read_csv(file,index_col=0,delimiter=',',encoding = \"ISO-8859-1\")\n",
    "    list_.append(df)\n",
    "#list_\n",
    "frame = pd.concat(list_, axis = 1)"
   ]
  },
  {
   "cell_type": "code",
   "execution_count": 262,
   "metadata": {},
   "outputs": [],
   "source": [
    "data_handle = frame.loc[:,[ \"RIAGENDR\",\"DMDYRSUS\",\"INDFMPIR\",\"LBXGH\",\"BMXARMC\",\"BMDAVSAD\",\"MGDCGSZ\",\"DRABF\",\"Diabetes\"]].drop_duplicates()"
   ]
  },
  {
   "cell_type": "code",
   "execution_count": 263,
   "metadata": {},
   "outputs": [
    {
     "name": "stdout",
     "output_type": "stream",
     "text": [
      "RIAGENDR : count 9894 , mean 1.51 , sd 0.5 , range 1 - 2\n",
      "DMDYRSUS : count 9894 , mean nan , sd nan , range nan - nan\n",
      "INDFMPIR : count 9894 , mean nan , sd nan , range 0.0 - 5.0\n",
      "LBXGH : count 9894 , mean nan , sd nan , range 3.5 - 17.5\n",
      "BMXARMC : count 9894 , mean nan , sd nan , range 10.4 - 59.4\n",
      "BMDAVSAD : count 9894 , mean nan , sd nan , range 10.1 - 40.1\n",
      "MGDCGSZ : count 9894 , mean nan , sd nan , range 8.0 - 162.8\n",
      "DRABF : count 9894 , mean nan , sd nan , range 1.0 - 2.0\n",
      "Diabetes : count 9894 , mean nan , sd nan , range 0.0 - 2.0\n"
     ]
    }
   ],
   "source": [
    "import numpy as np\n",
    "\n",
    "for i in data_handle:\n",
    "    x = data_handle[i].to_numpy()\n",
    "    print(i,\":\", \"count\",len(x), \", mean\",round(x.mean(),2), \", sd\",round(np.std(x),2),\", range\",round(min(x),2),\"-\", round(max(x),2))"
   ]
  },
  {
   "cell_type": "markdown",
   "metadata": {},
   "source": [
    "## 3.2 Fill in missing values (5 points)\n",
    "\n",
    "Fill in rows for both the train and test sets where the values are missing with the __fillna__ method. Use the \n",
    "\n",
    "1. Missing Years in US - 0\n",
    "2. Missing GlycoHemoglobin - median\n",
    "3. Missing Saggital Abdominal - median\n",
    "4. Missing Arm Circum - median\n",
    "5. Missing Grip Strength - median\n",
    "6. Missing Family Income - forward fill\n",
    "7. Missing Breast Fed - 1\n",
    "8. Missing Gender - 2 \n",
    "\n",
    "Median value has to be calculated for the particular column only on the training set.<br>\n",
    "Now create a dataframe with only the desired variables for both train and test sets. Print the training set mean, standard deviation and range again."
   ]
  },
  {
   "cell_type": "code",
   "execution_count": 264,
   "metadata": {},
   "outputs": [],
   "source": [
    "data = data_handle.fillna(value = {\"DMDYRSUS\":0,\"DRABF\":1,\"RIAGENDR\":2})\n",
    "data['INDFMPIR'] = data['INDFMPIR'].fillna(method=\"ffill\")\n",
    "data = data.fillna(value = data.loc[:,[\"LBXGH\",\"BMXARMC\",\"BMDAVSAD\",\"MGDCGSZ\"]].median().to_dict())\n",
    "data.dropna(axis=0, inplace=True)\n",
    "#data.head(10)"
   ]
  },
  {
   "cell_type": "code",
   "execution_count": 265,
   "metadata": {},
   "outputs": [
    {
     "name": "stdout",
     "output_type": "stream",
     "text": [
      "RIAGENDR : count 9702 , mean 1.51 , sd 0.5 , range 1 - 2\n",
      "DMDYRSUS : count 9702 , mean 1.69 , sd 8.46 , range 0.0 - 99.0\n",
      "INDFMPIR : count 9702 , mean 2.24 , sd 1.62 , range 0.0 - 5.0\n",
      "LBXGH : count 9702 , mean 5.57 , sd 0.84 , range 3.5 - 17.5\n",
      "BMXARMC : count 9702 , mean 28.62 , sd 7.72 , range 10.4 - 59.4\n",
      "BMDAVSAD : count 9702 , mean 21.01 , sd 4.29 , range 10.1 - 40.1\n",
      "MGDCGSZ : count 9702 , mean 62.48 , sd 22.35 , range 8.0 - 162.8\n",
      "DRABF : count 9702 , mean 1.87 , sd 0.34 , range 1.0 - 2.0\n",
      "Diabetes : count 9702 , mean 0.19 , sd 0.52 , range 0.0 - 2.0\n"
     ]
    },
    {
     "data": {
      "text/plain": [
       "(array([0., 1., 2.]), array([8511,  587,  604]))"
      ]
     },
     "execution_count": 265,
     "metadata": {},
     "output_type": "execute_result"
    }
   ],
   "source": [
    "for i in data:\n",
    "    x = data[i].to_numpy()\n",
    "    print(i,\":\", \"count\",len(x), \", mean\",round(x.mean(),2), \", sd\",round(np.std(x),2),\", range\",round(min(x),2),\"-\", round(max(x),2))\n",
    "\n",
    "np.unique(data['Diabetes'],return_counts=True)"
   ]
  },
  {
   "cell_type": "markdown",
   "metadata": {},
   "source": [
    "## 3.3 The DataLoader (5 points)\n",
    "\n",
    "Write an error-free dataloader class in Pytorch for our dataset. \n",
    "\n",
    "If you need help in writing a dataloader class, read more about it __[here](https://pytorch.org/tutorials/beginner/data_loading_tutorial.html#dataset-class)__."
   ]
  },
  {
   "cell_type": "code",
   "execution_count": 266,
   "metadata": {},
   "outputs": [],
   "source": [
    "import torch\n",
    "import torch.nn as nn\n",
    "\n",
    "\n",
    "\n",
    "class DiabeteDataset():\n",
    "\n",
    "    def __init__(self):\n",
    "        \n",
    "        \"\"\"\n",
    "        initialize the DataLoader function with diabete dataset\n",
    "        \"\"\"  \n",
    "        \n",
    "        self.pd_db = data\n",
    "        \n",
    "    def __len__(self):\n",
    "        \n",
    "        \"\"\"\n",
    "        This function gets called with len()    \n",
    "        \"\"\"\n",
    "        \n",
    "        return len(self.pd_db)\n",
    "\n",
    "    def __getitem__(self, index):\n",
    "        \n",
    "        \"\"\"\n",
    "        this function allow indexing of data \n",
    "        return a dictionary with a dictionary with \n",
    "            input: n by 8 features tensor\n",
    "            output: vector tensor\n",
    "        \"\"\"\n",
    "        \n",
    "        sample = self.pd_db.iloc[index]\n",
    "        sample_input = sample.loc[:,[\"RIAGENDR\",\"DMDYRSUS\",\"INDFMPIR\",\"LBXGH\",\"BMXARMC\",\"BMDAVSAD\",\"MGDCGSZ\",\"DRABF\"]].values\n",
    "        sample_output = sample.loc[:,[\"Diabetes\"]].values\n",
    "#         return {'input':torch.tensor(sample_input,dtype=torch.float32),\n",
    "#                 'output':torch.tensor(sample_output,dtype=torch.float32).squeeze()}\n",
    "        return {'input':sample_input,\n",
    "                'output':sample_output}"
   ]
  },
  {
   "cell_type": "code",
   "execution_count": 267,
   "metadata": {},
   "outputs": [
    {
     "name": "stdout",
     "output_type": "stream",
     "text": [
      "[[ 1.    0.    1.78  9.1  34.7  24.4  61.5   2.  ]\n",
      " [ 1.    0.    4.51  8.9  33.5  25.6  91.    2.  ]\n",
      " [ 1.    0.    2.52  5.4  21.   14.9  32.2   2.  ]]\n",
      "[[2.]\n",
      " [2.]\n",
      " [0.]]\n"
     ]
    }
   ],
   "source": [
    "len(DiabeteDataset())\n",
    "print(DiabeteDataset()[[1,2,3]]['input'])\n",
    "print(DiabeteDataset()[[1,2,3]]['output'])"
   ]
  },
  {
   "cell_type": "markdown",
   "metadata": {},
   "source": [
    "## 3.4 The Network (5 points + 2 Bonus points)\n",
    "\n",
    "Write an error-free 2 hidden layer Multilayer Perceptron class using Pytorch. Use ReLU as the non-linearity. The hidden layer sizes are 1000-300.\n",
    "\n",
    "__Bonus__: Write a function to initialize the layer weights."
   ]
  },
  {
   "cell_type": "code",
   "execution_count": 268,
   "metadata": {},
   "outputs": [],
   "source": [
    "import torch.nn as nn\n",
    "\n",
    "class TwoLayerMLPModel(nn.Module):\n",
    "    \n",
    "    def __init__(self):\n",
    "        super(TwoLayerMLPModel, self).__init__()\n",
    "        self.layer1 = nn.Linear(8, 1000) \n",
    "        self.layer2 = nn.Linear(1000,300)\n",
    "        self.layer3 = nn.Linear(300,3)\n",
    "        self.activation = nn.ReLU()       \n",
    "    \n",
    "    def forward(self,x):\n",
    "        x = self.activation(self.layer1(x))\n",
    "        x = self.activation(self.layer2(x))\n",
    "        return self.layer3(x)\n",
    "\n",
    "        \n",
    "model = TwoLayerMLPModel()\n",
    "\n",
    " "
   ]
  },
  {
   "cell_type": "markdown",
   "metadata": {},
   "source": [
    "## 3.5 The Training phase (10 points)\n",
    "\n",
    "Write a function to train your model and the rest of the script required to run this.<br>\n",
    "Plot the average loss per epoch for 100 epochs. Report the loss values at epoch 100.<br>\n",
    "Parameters to be used are as follows:<br>\n",
    "\n",
    "Optimizer : Stochastic Gradient Descent<br>\n",
    "Learning Rate : 1e-4<br>\n",
    "Loss : Cross Entropy<br>\n",
    "Batchsize : 200<br>\n",
    "Shuffle : True"
   ]
  },
  {
   "cell_type": "markdown",
   "metadata": {},
   "source": [
    "<font color='blue'>\n",
    "\n",
    "My model training strategy is \n",
    "\n",
    "1. Split `real training` data further by 9:1 into `training_train` and `training_test` with 9:1, and get the best model\n",
    "\n",
    "2. Evaluate the model with the `real testing` set.\n"
   ]
  },
  {
   "cell_type": "code",
   "execution_count": 269,
   "metadata": {},
   "outputs": [],
   "source": [
    "import torch\n",
    "import torch.nn as nn\n",
    "import numpy as np\n",
    "from torch import optim\n",
    "from random import shuffle\n",
    "from sklearn.model_selection import train_test_split\n",
    "\n",
    "\n",
    "\n",
    "# X_train, X_test, y_train, y_test = train_test_split(DiabeteDataset()[np.arange(len(DiabeteDataset()))]['input'],\n",
    "#                                                     DiabeteDataset()[np.arange(len(DiabeteDataset()))]['output'],\n",
    "#                                                     train_size=0.8)\n",
    "#X_train, X_test, y_train, y_test = DiabeteDataset()[6000]\n",
    "X_train, y_train, X_test, y_test = DiabeteDataset()[range(6000)]['input'],DiabeteDataset()[range(6000)]['output'],DiabeteDataset()[range(6000,len(data))]['input'],DiabeteDataset()[range(6000,len(data))]['output']\n",
    "# print(X_train.shape,X_test.shape)\n",
    "# np.unique(y_train,return_counts=True)"
   ]
  },
  {
   "cell_type": "code",
   "execution_count": 270,
   "metadata": {},
   "outputs": [],
   "source": [
    "# Training loop in PyTorch\n",
    "\n",
    "def train(X_train, y_train, alpha=1e-4, batch_size=200, num_epoch=100):\n",
    "    \n",
    "    # Split real training data into training and tsting\n",
    "    X_train_train, X_train_test, y_train_train, y_train_test = train_test_split(X_train, y_train, train_size=0.9)\n",
    "\n",
    "    X_train_train = torch.tensor(X_train_train,dtype=torch.float32)\n",
    "    X_train_test = torch.tensor(X_train_test,dtype=torch.float32)\n",
    "    y_train_train = torch.tensor(y_train_train,dtype=torch.long).squeeze()\n",
    "    y_train_test = torch.tensor(y_train_test,dtype=torch.long).squeeze()\n",
    "    \n",
    "    # Define loss function class, which contains both compute_loss and compute_gradient functionalities\n",
    "    model = TwoLayerMLPModel()\n",
    "\n",
    "    # Define method for updating parameters\n",
    "    optimizer = optim.SGD(model.parameters(), lr=alpha)\n",
    "    \n",
    "    # Define loss functon\n",
    "    loss = torch.nn.CrossEntropyLoss()\n",
    "    \n",
    "    num_samples, num_features = X_train_train.shape\n",
    "    num_batches = int(num_samples / batch_size)\n",
    "    order = np.arange(num_samples)\n",
    "    \n",
    "    # Track performance\n",
    "    best_test_loss = float('Inf')\n",
    "    best_model = None\n",
    "    train_loss_hist = np.zeros((num_epoch, num_batches))\n",
    "    test_loss_hist = np.zeros((num_epoch, num_batches))\n",
    "    \n",
    "    np.random.seed(2)\n",
    "    torch.manual_seed(2)\n",
    "    ################ Your code here ################\n",
    "    for i in range(num_epoch):\n",
    "        np.random.shuffle(order)\n",
    "        minibatches = np.array_split(order, num_batches)\n",
    "\n",
    "        for j in range(num_batches):\n",
    "            # Get batch input data of size (batch_size, num_features)\n",
    "            batch = minibatches[j]\n",
    "\n",
    "            # Set model to training mode and reset gradient\n",
    "            model.train()\n",
    "            model.zero_grad()\n",
    "\n",
    "            # Make model prediction using current batch data\n",
    "            y_pred = model(X_train_train[batch])\n",
    "            \n",
    "            # compute_loss\n",
    "            train_loss = loss(y_pred, y_train_train[batch])\n",
    "            train_loss_hist[i, j] = train_loss.item()\n",
    "\n",
    "            # compute_gradient\n",
    "            train_loss.backward()\n",
    "            # Step into gradient descent direction. Perform parameter update\n",
    "            optimizer.step()\n",
    "\n",
    "            # Evaluating performance on test set\n",
    "            with torch.no_grad():\n",
    "                model.eval()\n",
    "                test_loss_hist[i, j] = loss(model(X_train_test).squeeze(), y_train_test)\n",
    "                # Keep track of the model that gives rise to minimal loss on test data\n",
    "                if train_loss_hist[i, j] < best_test_loss:\n",
    "                    best_model = model\n",
    "                    best_model_weight = model.state_dict()              \n",
    "    return (train_loss_hist,train_loss_hist,best_model,best_model_weight)"
   ]
  },
  {
   "cell_type": "code",
   "execution_count": 271,
   "metadata": {},
   "outputs": [
    {
     "name": "stderr",
     "output_type": "stream",
     "text": [
      "/Users/menghanliu/anaconda3/envs/pytorch/lib/python3.7/site-packages/sklearn/model_selection/_split.py:2179: FutureWarning: From version 0.21, test_size will always complement train_size unless both are specified.\n",
      "  FutureWarning)\n"
     ]
    }
   ],
   "source": [
    "temp = train(X_train,y_train)"
   ]
  },
  {
   "cell_type": "code",
   "execution_count": 272,
   "metadata": {},
   "outputs": [
    {
     "data": {
      "image/png": "[encoded data removed]",
      "text/plain": [
       "<Figure size 432x288 with 1 Axes>"
      ]
     },
     "metadata": {
      "needs_background": "light"
     },
     "output_type": "display_data"
    }
   ],
   "source": [
    "import matplotlib.pyplot as plt\n",
    "plt.plot([i.mean() for i in temp[1]])\n",
    "plt.xlabel('# of epoch')\n",
    "plt.ylabel('Average loss')\n",
    "plt.show()"
   ]
  },
  {
   "cell_type": "markdown",
   "metadata": {},
   "source": [
    "## 3.6 The Testing Phase (10 points)\n",
    "\n",
    "Write a function to test your trained model.<br>Report the average test loss and the testing accuracy.<br>Also print the confusion matrix."
   ]
  },
  {
   "cell_type": "code",
   "execution_count": 273,
   "metadata": {},
   "outputs": [
    {
     "data": {
      "text/plain": [
       "tensor(0.4737, grad_fn=<NllLossBackward>)"
      ]
     },
     "execution_count": 273,
     "metadata": {},
     "output_type": "execute_result"
    }
   ],
   "source": [
    "# load the best model\n",
    "the_model = TwoLayerMLPModel()\n",
    "the_model.load_state_dict(temp[3])\n",
    "\n",
    "# apply on test data\n",
    "loss = torch.nn.CrossEntropyLoss()\n",
    "y_test_pred = the_model(torch.tensor(X_test,dtype=torch.float32))\n",
    "\n",
    "# report loss\n",
    "loss(y_test_pred,torch.tensor(y_test,dtype=torch.long).squeeze())\n"
   ]
  },
  {
   "cell_type": "code",
   "execution_count": 274,
   "metadata": {},
   "outputs": [
    {
     "name": "stdout",
     "output_type": "stream",
     "text": [
      "Accuracy =  0.878\n"
     ]
    }
   ],
   "source": [
    "# testing accuracy\n",
    "import sklearn\n",
    "acc = sklearn.metrics.accuracy_score(torch.tensor(y_test,dtype=torch.long).squeeze().numpy(),\n",
    "                                     [a.index(max(a)) for a in np.ndarray.tolist(y_test_pred.detach().numpy())],\n",
    "                                     normalize=True, sample_weight=None)\n",
    "print(\"Accuracy = \",round(acc,3))\n"
   ]
  },
  {
   "cell_type": "code",
   "execution_count": 275,
   "metadata": {},
   "outputs": [
    {
     "name": "stdout",
     "output_type": "stream",
     "text": [
      "[[3252    0    1]\n",
      " [ 234    0    0]\n",
      " [ 215    0    0]]\n"
     ]
    }
   ],
   "source": [
    "# confusion matrix\n",
    "import sklearn\n",
    "confusion = sklearn.metrics.confusion_matrix(torch.tensor(y_test,dtype=torch.long).squeeze().numpy(),\n",
    "                                     [a.index(max(a)) for a in np.ndarray.tolist(y_test_pred.detach().numpy())],\n",
    "                                 labels=None, sample_weight=None)\n",
    "print(confusion)\n",
    "\n"
   ]
  },
  {
   "cell_type": "markdown",
   "metadata": {},
   "source": [
    "## 3.7 The AUCs (5 points + 5 Bonus points)\n",
    "Now calculate the AUC of your trained model on the test set.<br>\n",
    "**(Bonus)** Use the sklearn Multiclass Logistic Regression model and fit it to our dataset. Calculate the AUC of this model. Compare the two AUCs."
   ]
  },
  {
   "cell_type": "code",
   "execution_count": 276,
   "metadata": {},
   "outputs": [
    {
     "data": {
      "text/plain": [
       "(array([0, 1, 2]), array([3253,  234,  215]))"
      ]
     },
     "execution_count": 276,
     "metadata": {},
     "output_type": "execute_result"
    }
   ],
   "source": [
    "np.unique(torch.tensor(y_test,dtype=torch.long).squeeze().numpy(),return_counts=True) # manully inspect"
   ]
  },
  {
   "cell_type": "code",
   "execution_count": 277,
   "metadata": {},
   "outputs": [
    {
     "name": "stdout",
     "output_type": "stream",
     "text": [
      "\n",
      "AUC =  0.4999009686645754\n"
     ]
    },
    {
     "data": {
      "image/png": "[encoded data removed]",
      "text/plain": [
       "<Figure size 432x288 with 1 Axes>"
      ]
     },
     "metadata": {
      "needs_background": "light"
     },
     "output_type": "display_data"
    }
   ],
   "source": [
    "from sklearn.preprocessing import label_binarize\n",
    "from sklearn.metrics import roc_curve, auc\n",
    "\n",
    "n_classes=3\n",
    "a= label_binarize(torch.tensor(y_test,dtype=torch.long).squeeze().numpy(),classes=[0,1,2])\n",
    "b= label_binarize([a.index(max(a)) for a in np.ndarray.tolist(y_test_pred.detach().numpy())],classes=[0,1,2])\n",
    "print(\"\\nAUC = \",sklearn.metrics.roc_auc_score(a,b))\n",
    "\n",
    "\n",
    "# plot ROC curve\n",
    "fpr = dict()\n",
    "tpr = dict()\n",
    "roc_auc = dict()\n",
    "for i in range(n_classes):\n",
    "    fpr[i], tpr[i], _ = roc_curve(a[:, i], b[:, i])\n",
    "    roc_auc[i] = auc(fpr[i], tpr[i])\n",
    "lw = 2\n",
    "plt.plot(fpr[2], tpr[2], color='darkorange',\n",
    "         lw=lw, label='ROC curve (area = %0.2f)' % roc_auc[2])\n",
    "plt.xlim([0.0, 1.0])\n",
    "plt.ylim([0.0, 1.05])\n",
    "plt.xlabel('False Positive Rate')\n",
    "plt.ylabel('True Positive Rate')\n",
    "plt.legend(loc=\"lower right\")\n",
    "plt.show()"
   ]
  },
  {
   "cell_type": "code",
   "execution_count": 278,
   "metadata": {},
   "outputs": [
    {
     "name": "stderr",
     "output_type": "stream",
     "text": [
      "/Users/menghanliu/anaconda3/envs/pytorch/lib/python3.7/site-packages/sklearn/utils/validation.py:761: DataConversionWarning: A column-vector y was passed when a 1d array was expected. Please change the shape of y to (n_samples, ), for example using ravel().\n",
      "  y = column_or_1d(y, warn=True)\n",
      "/Users/menghanliu/anaconda3/envs/pytorch/lib/python3.7/site-packages/sklearn/linear_model/logistic.py:758: ConvergenceWarning: lbfgs failed to converge. Increase the number of iterations.\n",
      "  \"of iterations.\", ConvergenceWarning)\n"
     ]
    },
    {
     "name": "stdout",
     "output_type": "stream",
     "text": [
      "[0. 2. 0. ... 0. 2. 0.]\n",
      "\n",
      "AUC =  0.6550449889660155\n"
     ]
    },
    {
     "data": {
      "image/png": "[encoded data removed]",
      "text/plain": [
       "<Figure size 432x288 with 1 Axes>"
      ]
     },
     "metadata": {
      "needs_background": "light"
     },
     "output_type": "display_data"
    }
   ],
   "source": [
    ">>> from sklearn.datasets import load_iris\n",
    ">>> from sklearn.linear_model import LogisticRegression\n",
    ">>> clf = LogisticRegression(random_state=0, solver='lbfgs',\n",
    "...                          multi_class='multinomial').fit(X_train, y_train)\n",
    ">>> print(clf.predict(X_test))\n",
    ">>> clf.predict_proba(X_test) \n",
    "from sklearn.preprocessing import label_binarize\n",
    "n_classes=3\n",
    "a= label_binarize(clf.predict(X_test),classes=[0,1,2])\n",
    "b= label_binarize(y_test,classes=[0,1,2])\n",
    "print(\"\\nAUC = \",sklearn.metrics.roc_auc_score(a,b))\n",
    "\n",
    "\n",
    "\n",
    "fpr = dict()\n",
    "tpr = dict()\n",
    "roc_auc = dict()\n",
    "for i in range(n_classes):\n",
    "    fpr[i], tpr[i], _ = roc_curve(a[:, i], b[:, i])\n",
    "    roc_auc[i] = auc(fpr[i], tpr[i])\n",
    "lw = 2\n",
    "plt.plot(fpr[2], tpr[2], color='darkorange',\n",
    "         lw=lw, label='ROC curve (area = %0.2f)' % roc_auc[2])\n",
    "plt.xlim([0.0, 1.0])\n",
    "plt.ylim([0.0, 1.05])\n",
    "plt.xlabel('False Positive Rate')\n",
    "plt.ylabel('True Positive Rate')\n",
    "plt.legend(loc=\"lower right\")\n",
    "plt.show()\n"
   ]
  },
  {
   "cell_type": "markdown",
   "metadata": {},
   "source": [
    "<font color='blue'>\n",
    "    \n",
    "The AUC I get for my `TwoLayerMLPModel()` model is 0.5;\n",
    "    \n",
    "    \n",
    "The AUC I get for the multiclass linear regression model with `LogisticRegression` is 0.65.\n",
    "\n",
    "\n",
    "In conclusion, My deep leanring model didn't out perform the logistic regression model :(\n"
   ]
  }
 ],
 "metadata": {
  "kernelspec": {
   "display_name": "Python 3",
   "language": "python",
   "name": "python3"
  },
  "language_info": {
   "codemirror_mode": {
    "name": "ipython",
    "version": 3
   },
   "file_extension": ".py",
   "mimetype": "text/x-python",
   "name": "python",
   "nbconvert_exporter": "python",
   "pygments_lexer": "ipython3",
   "version": "3.7.1"
  }
 },
 "nbformat": 4,
 "nbformat_minor": 2
}
